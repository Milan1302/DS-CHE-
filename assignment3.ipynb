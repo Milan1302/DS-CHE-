{
 "cells": [
  {
   "cell_type": "markdown",
   "id": "cb987129",
   "metadata": {},
   "source": [
    "# Linear regression for saturated vapour properties prediction"
   ]
  },
  {
   "cell_type": "code",
   "execution_count": 9,
   "id": "9cf01a6e",
   "metadata": {},
   "outputs": [],
   "source": [
    "import pandas as pd\n",
    "import numpy as np\n",
    "import matplotlib.pyplot as plt\n",
    "%matplotlib inline"
   ]
  },
  {
   "cell_type": "code",
   "execution_count": 10,
   "id": "678c544b",
   "metadata": {},
   "outputs": [
    {
     "data": {
      "text/html": [
       "<div>\n",
       "<style scoped>\n",
       "    .dataframe tbody tr th:only-of-type {\n",
       "        vertical-align: middle;\n",
       "    }\n",
       "\n",
       "    .dataframe tbody tr th {\n",
       "        vertical-align: top;\n",
       "    }\n",
       "\n",
       "    .dataframe thead th {\n",
       "        text-align: right;\n",
       "    }\n",
       "</style>\n",
       "<table border=\"1\" class=\"dataframe\">\n",
       "  <thead>\n",
       "    <tr style=\"text-align: right;\">\n",
       "      <th></th>\n",
       "      <th>Pressure</th>\n",
       "      <th>Property</th>\n",
       "      <th>Liq_Sat</th>\n",
       "      <th>Vap_Sat</th>\n",
       "      <th>75</th>\n",
       "      <th>100</th>\n",
       "      <th>125</th>\n",
       "      <th>150</th>\n",
       "      <th>175</th>\n",
       "      <th>200</th>\n",
       "      <th>...</th>\n",
       "      <th>425</th>\n",
       "      <th>450</th>\n",
       "      <th>475</th>\n",
       "      <th>500</th>\n",
       "      <th>525</th>\n",
       "      <th>550</th>\n",
       "      <th>575</th>\n",
       "      <th>600</th>\n",
       "      <th>625</th>\n",
       "      <th>650</th>\n",
       "    </tr>\n",
       "  </thead>\n",
       "  <tbody>\n",
       "    <tr>\n",
       "      <th>0</th>\n",
       "      <td>1.0</td>\n",
       "      <td>V</td>\n",
       "      <td>1.000</td>\n",
       "      <td>129200.0000</td>\n",
       "      <td>160640.0000</td>\n",
       "      <td>172180.0000</td>\n",
       "      <td>183720.0000</td>\n",
       "      <td>195270.0000</td>\n",
       "      <td>206810.0000</td>\n",
       "      <td>218350.0000</td>\n",
       "      <td>...</td>\n",
       "      <td>NaN</td>\n",
       "      <td>333730.00</td>\n",
       "      <td>NaN</td>\n",
       "      <td>356810.0000</td>\n",
       "      <td>NaN</td>\n",
       "      <td>379880.0000</td>\n",
       "      <td>NaN</td>\n",
       "      <td>402960.0000</td>\n",
       "      <td>NaN</td>\n",
       "      <td>426040.0000</td>\n",
       "    </tr>\n",
       "    <tr>\n",
       "      <th>1</th>\n",
       "      <td>1.0</td>\n",
       "      <td>U</td>\n",
       "      <td>29.334</td>\n",
       "      <td>2385.2000</td>\n",
       "      <td>2480.8000</td>\n",
       "      <td>2516.4000</td>\n",
       "      <td>2552.3000</td>\n",
       "      <td>2588.5000</td>\n",
       "      <td>2624.9000</td>\n",
       "      <td>2661.7000</td>\n",
       "      <td>...</td>\n",
       "      <td>NaN</td>\n",
       "      <td>3049.90</td>\n",
       "      <td>NaN</td>\n",
       "      <td>3132.4000</td>\n",
       "      <td>NaN</td>\n",
       "      <td>3216.7000</td>\n",
       "      <td>NaN</td>\n",
       "      <td>3302.6000</td>\n",
       "      <td>NaN</td>\n",
       "      <td>3390.3000</td>\n",
       "    </tr>\n",
       "    <tr>\n",
       "      <th>2</th>\n",
       "      <td>1.0</td>\n",
       "      <td>H</td>\n",
       "      <td>29.335</td>\n",
       "      <td>2514.4000</td>\n",
       "      <td>2641.5000</td>\n",
       "      <td>2688.6000</td>\n",
       "      <td>2736.0000</td>\n",
       "      <td>2783.7000</td>\n",
       "      <td>2831.7000</td>\n",
       "      <td>2880.1000</td>\n",
       "      <td>...</td>\n",
       "      <td>NaN</td>\n",
       "      <td>3383.60</td>\n",
       "      <td>NaN</td>\n",
       "      <td>3489.2000</td>\n",
       "      <td>NaN</td>\n",
       "      <td>3596.5000</td>\n",
       "      <td>NaN</td>\n",
       "      <td>3705.6000</td>\n",
       "      <td>NaN</td>\n",
       "      <td>3816.4000</td>\n",
       "    </tr>\n",
       "    <tr>\n",
       "      <th>3</th>\n",
       "      <td>1.0</td>\n",
       "      <td>S</td>\n",
       "      <td>0.106</td>\n",
       "      <td>8.9767</td>\n",
       "      <td>9.3828</td>\n",
       "      <td>9.5136</td>\n",
       "      <td>9.6365</td>\n",
       "      <td>9.7527</td>\n",
       "      <td>9.8629</td>\n",
       "      <td>9.9679</td>\n",
       "      <td>...</td>\n",
       "      <td>NaN</td>\n",
       "      <td>10.82</td>\n",
       "      <td>NaN</td>\n",
       "      <td>10.9612</td>\n",
       "      <td>NaN</td>\n",
       "      <td>11.0957</td>\n",
       "      <td>NaN</td>\n",
       "      <td>11.2243</td>\n",
       "      <td>NaN</td>\n",
       "      <td>11.3476</td>\n",
       "    </tr>\n",
       "    <tr>\n",
       "      <th>4</th>\n",
       "      <td>10.0</td>\n",
       "      <td>V</td>\n",
       "      <td>1.010</td>\n",
       "      <td>14670.0000</td>\n",
       "      <td>16030.0000</td>\n",
       "      <td>17190.0000</td>\n",
       "      <td>18350.0000</td>\n",
       "      <td>19510.0000</td>\n",
       "      <td>20660.0000</td>\n",
       "      <td>21820.0000</td>\n",
       "      <td>...</td>\n",
       "      <td>NaN</td>\n",
       "      <td>33370.00</td>\n",
       "      <td>NaN</td>\n",
       "      <td>35670.0000</td>\n",
       "      <td>NaN</td>\n",
       "      <td>37980.0000</td>\n",
       "      <td>NaN</td>\n",
       "      <td>40290.0000</td>\n",
       "      <td>NaN</td>\n",
       "      <td>42600.0000</td>\n",
       "    </tr>\n",
       "  </tbody>\n",
       "</table>\n",
       "<p>5 rows × 37 columns</p>\n",
       "</div>"
      ],
      "text/plain": [
       "   Pressure Property  Liq_Sat      Vap_Sat           75          100  \\\n",
       "0       1.0        V    1.000  129200.0000  160640.0000  172180.0000   \n",
       "1       1.0        U   29.334    2385.2000    2480.8000    2516.4000   \n",
       "2       1.0        H   29.335    2514.4000    2641.5000    2688.6000   \n",
       "3       1.0        S    0.106       8.9767       9.3828       9.5136   \n",
       "4      10.0        V    1.010   14670.0000   16030.0000   17190.0000   \n",
       "\n",
       "           125          150          175          200  ...  425        450  \\\n",
       "0  183720.0000  195270.0000  206810.0000  218350.0000  ...  NaN  333730.00   \n",
       "1    2552.3000    2588.5000    2624.9000    2661.7000  ...  NaN    3049.90   \n",
       "2    2736.0000    2783.7000    2831.7000    2880.1000  ...  NaN    3383.60   \n",
       "3       9.6365       9.7527       9.8629       9.9679  ...  NaN      10.82   \n",
       "4   18350.0000   19510.0000   20660.0000   21820.0000  ...  NaN   33370.00   \n",
       "\n",
       "   475          500  525          550  575          600  625          650  \n",
       "0  NaN  356810.0000  NaN  379880.0000  NaN  402960.0000  NaN  426040.0000  \n",
       "1  NaN    3132.4000  NaN    3216.7000  NaN    3302.6000  NaN    3390.3000  \n",
       "2  NaN    3489.2000  NaN    3596.5000  NaN    3705.6000  NaN    3816.4000  \n",
       "3  NaN      10.9612  NaN      11.0957  NaN      11.2243  NaN      11.3476  \n",
       "4  NaN   35670.0000  NaN   37980.0000  NaN   40290.0000  NaN   42600.0000  \n",
       "\n",
       "[5 rows x 37 columns]"
      ]
     },
     "execution_count": 10,
     "metadata": {},
     "output_type": "execute_result"
    }
   ],
   "source": [
    "data=pd.read_csv('superheated_vapor_properties.csv')\n",
    "data.head()  "
   ]
  },
  {
   "cell_type": "code",
   "execution_count": 11,
   "id": "e3fce4a4",
   "metadata": {},
   "outputs": [
    {
     "data": {
      "text/html": [
       "<div>\n",
       "<style scoped>\n",
       "    .dataframe tbody tr th:only-of-type {\n",
       "        vertical-align: middle;\n",
       "    }\n",
       "\n",
       "    .dataframe tbody tr th {\n",
       "        vertical-align: top;\n",
       "    }\n",
       "\n",
       "    .dataframe thead th {\n",
       "        text-align: right;\n",
       "    }\n",
       "</style>\n",
       "<table border=\"1\" class=\"dataframe\">\n",
       "  <thead>\n",
       "    <tr style=\"text-align: right;\">\n",
       "      <th></th>\n",
       "      <th>Pressure</th>\n",
       "      <th>Property</th>\n",
       "      <th>Liq_Sat</th>\n",
       "      <th>Vap_Sat</th>\n",
       "      <th>75</th>\n",
       "      <th>100</th>\n",
       "      <th>125</th>\n",
       "      <th>150</th>\n",
       "      <th>175</th>\n",
       "      <th>200</th>\n",
       "      <th>...</th>\n",
       "      <th>425</th>\n",
       "      <th>450</th>\n",
       "      <th>475</th>\n",
       "      <th>500</th>\n",
       "      <th>525</th>\n",
       "      <th>550</th>\n",
       "      <th>575</th>\n",
       "      <th>600</th>\n",
       "      <th>625</th>\n",
       "      <th>650</th>\n",
       "    </tr>\n",
       "  </thead>\n",
       "  <tbody>\n",
       "    <tr>\n",
       "      <th>0</th>\n",
       "      <td>1.0</td>\n",
       "      <td>V</td>\n",
       "      <td>1.000</td>\n",
       "      <td>129200.000</td>\n",
       "      <td>160640.0</td>\n",
       "      <td>172180.0</td>\n",
       "      <td>183720.0</td>\n",
       "      <td>195270.0</td>\n",
       "      <td>206810.0</td>\n",
       "      <td>218350.0</td>\n",
       "      <td>...</td>\n",
       "      <td>NaN</td>\n",
       "      <td>333730.000</td>\n",
       "      <td>NaN</td>\n",
       "      <td>356810.000</td>\n",
       "      <td>NaN</td>\n",
       "      <td>379880.000</td>\n",
       "      <td>NaN</td>\n",
       "      <td>402960.000</td>\n",
       "      <td>NaN</td>\n",
       "      <td>426040.000</td>\n",
       "    </tr>\n",
       "    <tr>\n",
       "      <th>4</th>\n",
       "      <td>10.0</td>\n",
       "      <td>V</td>\n",
       "      <td>1.010</td>\n",
       "      <td>14670.000</td>\n",
       "      <td>16030.0</td>\n",
       "      <td>17190.0</td>\n",
       "      <td>18350.0</td>\n",
       "      <td>19510.0</td>\n",
       "      <td>20660.0</td>\n",
       "      <td>21820.0</td>\n",
       "      <td>...</td>\n",
       "      <td>NaN</td>\n",
       "      <td>33370.000</td>\n",
       "      <td>NaN</td>\n",
       "      <td>35670.000</td>\n",
       "      <td>NaN</td>\n",
       "      <td>37980.000</td>\n",
       "      <td>NaN</td>\n",
       "      <td>40290.000</td>\n",
       "      <td>NaN</td>\n",
       "      <td>42600.000</td>\n",
       "    </tr>\n",
       "    <tr>\n",
       "      <th>8</th>\n",
       "      <td>20.0</td>\n",
       "      <td>V</td>\n",
       "      <td>1.017</td>\n",
       "      <td>7649.800</td>\n",
       "      <td>8000.0</td>\n",
       "      <td>8584.7</td>\n",
       "      <td>9167.1</td>\n",
       "      <td>9748.0</td>\n",
       "      <td>10320.0</td>\n",
       "      <td>10900.0</td>\n",
       "      <td>...</td>\n",
       "      <td>NaN</td>\n",
       "      <td>16680.000</td>\n",
       "      <td>NaN</td>\n",
       "      <td>17830.000</td>\n",
       "      <td>NaN</td>\n",
       "      <td>18990.000</td>\n",
       "      <td>NaN</td>\n",
       "      <td>20140.000</td>\n",
       "      <td>NaN</td>\n",
       "      <td>21300.000</td>\n",
       "    </tr>\n",
       "    <tr>\n",
       "      <th>12</th>\n",
       "      <td>30.0</td>\n",
       "      <td>V</td>\n",
       "      <td>1.022</td>\n",
       "      <td>5229.300</td>\n",
       "      <td>5322.0</td>\n",
       "      <td>5714.4</td>\n",
       "      <td>6104.6</td>\n",
       "      <td>6493.2</td>\n",
       "      <td>6880.8</td>\n",
       "      <td>7267.5</td>\n",
       "      <td>...</td>\n",
       "      <td>NaN</td>\n",
       "      <td>11120.000</td>\n",
       "      <td>NaN</td>\n",
       "      <td>11890.000</td>\n",
       "      <td>NaN</td>\n",
       "      <td>12660.000</td>\n",
       "      <td>NaN</td>\n",
       "      <td>13430.000</td>\n",
       "      <td>NaN</td>\n",
       "      <td>14190.000</td>\n",
       "    </tr>\n",
       "    <tr>\n",
       "      <th>16</th>\n",
       "      <td>40.0</td>\n",
       "      <td>V</td>\n",
       "      <td>1.027</td>\n",
       "      <td>3993.400</td>\n",
       "      <td>NaN</td>\n",
       "      <td>4279.2</td>\n",
       "      <td>4573.3</td>\n",
       "      <td>4865.8</td>\n",
       "      <td>5157.2</td>\n",
       "      <td>5447.8</td>\n",
       "      <td>...</td>\n",
       "      <td>NaN</td>\n",
       "      <td>8340.100</td>\n",
       "      <td>NaN</td>\n",
       "      <td>8917.600</td>\n",
       "      <td>NaN</td>\n",
       "      <td>9494.900</td>\n",
       "      <td>NaN</td>\n",
       "      <td>10070.000</td>\n",
       "      <td>NaN</td>\n",
       "      <td>10640.000</td>\n",
       "    </tr>\n",
       "    <tr>\n",
       "      <th>...</th>\n",
       "      <td>...</td>\n",
       "      <td>...</td>\n",
       "      <td>...</td>\n",
       "      <td>...</td>\n",
       "      <td>...</td>\n",
       "      <td>...</td>\n",
       "      <td>...</td>\n",
       "      <td>...</td>\n",
       "      <td>...</td>\n",
       "      <td>...</td>\n",
       "      <td>...</td>\n",
       "      <td>...</td>\n",
       "      <td>...</td>\n",
       "      <td>...</td>\n",
       "      <td>...</td>\n",
       "      <td>...</td>\n",
       "      <td>...</td>\n",
       "      <td>...</td>\n",
       "      <td>...</td>\n",
       "      <td>...</td>\n",
       "      <td>...</td>\n",
       "    </tr>\n",
       "    <tr>\n",
       "      <th>524</th>\n",
       "      <td>10600.0</td>\n",
       "      <td>V</td>\n",
       "      <td>1.474</td>\n",
       "      <td>16.778</td>\n",
       "      <td>NaN</td>\n",
       "      <td>NaN</td>\n",
       "      <td>NaN</td>\n",
       "      <td>NaN</td>\n",
       "      <td>NaN</td>\n",
       "      <td>NaN</td>\n",
       "      <td>...</td>\n",
       "      <td>26.276</td>\n",
       "      <td>27.834</td>\n",
       "      <td>29.313</td>\n",
       "      <td>30.732</td>\n",
       "      <td>32.106</td>\n",
       "      <td>33.444</td>\n",
       "      <td>34.753</td>\n",
       "      <td>36.039</td>\n",
       "      <td>37.304</td>\n",
       "      <td>38.552</td>\n",
       "    </tr>\n",
       "    <tr>\n",
       "      <th>528</th>\n",
       "      <td>10800.0</td>\n",
       "      <td>V</td>\n",
       "      <td>1.481</td>\n",
       "      <td>16.385</td>\n",
       "      <td>NaN</td>\n",
       "      <td>NaN</td>\n",
       "      <td>NaN</td>\n",
       "      <td>NaN</td>\n",
       "      <td>NaN</td>\n",
       "      <td>NaN</td>\n",
       "      <td>...</td>\n",
       "      <td>25.703</td>\n",
       "      <td>27.245</td>\n",
       "      <td>28.706</td>\n",
       "      <td>30.106</td>\n",
       "      <td>31.461</td>\n",
       "      <td>32.779</td>\n",
       "      <td>34.069</td>\n",
       "      <td>35.335</td>\n",
       "      <td>36.580</td>\n",
       "      <td>37.808</td>\n",
       "    </tr>\n",
       "    <tr>\n",
       "      <th>532</th>\n",
       "      <td>11000.0</td>\n",
       "      <td>V</td>\n",
       "      <td>1.489</td>\n",
       "      <td>16.006</td>\n",
       "      <td>NaN</td>\n",
       "      <td>NaN</td>\n",
       "      <td>NaN</td>\n",
       "      <td>NaN</td>\n",
       "      <td>NaN</td>\n",
       "      <td>NaN</td>\n",
       "      <td>...</td>\n",
       "      <td>25.151</td>\n",
       "      <td>26.676</td>\n",
       "      <td>28.120</td>\n",
       "      <td>29.503</td>\n",
       "      <td>30.839</td>\n",
       "      <td>32.139</td>\n",
       "      <td>33.410</td>\n",
       "      <td>34.656</td>\n",
       "      <td>35.882</td>\n",
       "      <td>37.091</td>\n",
       "    </tr>\n",
       "    <tr>\n",
       "      <th>536</th>\n",
       "      <td>11200.0</td>\n",
       "      <td>V</td>\n",
       "      <td>1.496</td>\n",
       "      <td>15.639</td>\n",
       "      <td>NaN</td>\n",
       "      <td>NaN</td>\n",
       "      <td>NaN</td>\n",
       "      <td>NaN</td>\n",
       "      <td>NaN</td>\n",
       "      <td>NaN</td>\n",
       "      <td>...</td>\n",
       "      <td>24.619</td>\n",
       "      <td>26.128</td>\n",
       "      <td>27.555</td>\n",
       "      <td>28.921</td>\n",
       "      <td>30.240</td>\n",
       "      <td>31.521</td>\n",
       "      <td>32.774</td>\n",
       "      <td>34.002</td>\n",
       "      <td>35.210</td>\n",
       "      <td>36.400</td>\n",
       "    </tr>\n",
       "    <tr>\n",
       "      <th>540</th>\n",
       "      <td>11400.0</td>\n",
       "      <td>V</td>\n",
       "      <td>1.504</td>\n",
       "      <td>15.284</td>\n",
       "      <td>NaN</td>\n",
       "      <td>NaN</td>\n",
       "      <td>NaN</td>\n",
       "      <td>NaN</td>\n",
       "      <td>NaN</td>\n",
       "      <td>NaN</td>\n",
       "      <td>...</td>\n",
       "      <td>24.104</td>\n",
       "      <td>25.599</td>\n",
       "      <td>27.010</td>\n",
       "      <td>28.359</td>\n",
       "      <td>29.661</td>\n",
       "      <td>30.925</td>\n",
       "      <td>32.160</td>\n",
       "      <td>33.370</td>\n",
       "      <td>34.560</td>\n",
       "      <td>35.733</td>\n",
       "    </tr>\n",
       "  </tbody>\n",
       "</table>\n",
       "<p>136 rows × 37 columns</p>\n",
       "</div>"
      ],
      "text/plain": [
       "     Pressure Property  Liq_Sat     Vap_Sat        75       100       125  \\\n",
       "0         1.0        V    1.000  129200.000  160640.0  172180.0  183720.0   \n",
       "4        10.0        V    1.010   14670.000   16030.0   17190.0   18350.0   \n",
       "8        20.0        V    1.017    7649.800    8000.0    8584.7    9167.1   \n",
       "12       30.0        V    1.022    5229.300    5322.0    5714.4    6104.6   \n",
       "16       40.0        V    1.027    3993.400       NaN    4279.2    4573.3   \n",
       "..        ...      ...      ...         ...       ...       ...       ...   \n",
       "524   10600.0        V    1.474      16.778       NaN       NaN       NaN   \n",
       "528   10800.0        V    1.481      16.385       NaN       NaN       NaN   \n",
       "532   11000.0        V    1.489      16.006       NaN       NaN       NaN   \n",
       "536   11200.0        V    1.496      15.639       NaN       NaN       NaN   \n",
       "540   11400.0        V    1.504      15.284       NaN       NaN       NaN   \n",
       "\n",
       "          150       175       200  ...     425         450     475  \\\n",
       "0    195270.0  206810.0  218350.0  ...     NaN  333730.000     NaN   \n",
       "4     19510.0   20660.0   21820.0  ...     NaN   33370.000     NaN   \n",
       "8      9748.0   10320.0   10900.0  ...     NaN   16680.000     NaN   \n",
       "12     6493.2    6880.8    7267.5  ...     NaN   11120.000     NaN   \n",
       "16     4865.8    5157.2    5447.8  ...     NaN    8340.100     NaN   \n",
       "..        ...       ...       ...  ...     ...         ...     ...   \n",
       "524       NaN       NaN       NaN  ...  26.276      27.834  29.313   \n",
       "528       NaN       NaN       NaN  ...  25.703      27.245  28.706   \n",
       "532       NaN       NaN       NaN  ...  25.151      26.676  28.120   \n",
       "536       NaN       NaN       NaN  ...  24.619      26.128  27.555   \n",
       "540       NaN       NaN       NaN  ...  24.104      25.599  27.010   \n",
       "\n",
       "            500     525         550     575         600     625         650  \n",
       "0    356810.000     NaN  379880.000     NaN  402960.000     NaN  426040.000  \n",
       "4     35670.000     NaN   37980.000     NaN   40290.000     NaN   42600.000  \n",
       "8     17830.000     NaN   18990.000     NaN   20140.000     NaN   21300.000  \n",
       "12    11890.000     NaN   12660.000     NaN   13430.000     NaN   14190.000  \n",
       "16     8917.600     NaN    9494.900     NaN   10070.000     NaN   10640.000  \n",
       "..          ...     ...         ...     ...         ...     ...         ...  \n",
       "524      30.732  32.106      33.444  34.753      36.039  37.304      38.552  \n",
       "528      30.106  31.461      32.779  34.069      35.335  36.580      37.808  \n",
       "532      29.503  30.839      32.139  33.410      34.656  35.882      37.091  \n",
       "536      28.921  30.240      31.521  32.774      34.002  35.210      36.400  \n",
       "540      28.359  29.661      30.925  32.160      33.370  34.560      35.733  \n",
       "\n",
       "[136 rows x 37 columns]"
      ]
     },
     "execution_count": 11,
     "metadata": {},
     "output_type": "execute_result"
    }
   ],
   "source": [
    "grouped=data.groupby(data.Property)\n",
    "V_data=grouped.get_group(\"V\")\n",
    "V_data"
   ]
  },
  {
   "cell_type": "code",
   "execution_count": 12,
   "id": "4bd1d4bc",
   "metadata": {},
   "outputs": [
    {
     "data": {
      "text/html": [
       "<div>\n",
       "<style scoped>\n",
       "    .dataframe tbody tr th:only-of-type {\n",
       "        vertical-align: middle;\n",
       "    }\n",
       "\n",
       "    .dataframe tbody tr th {\n",
       "        vertical-align: top;\n",
       "    }\n",
       "\n",
       "    .dataframe thead th {\n",
       "        text-align: right;\n",
       "    }\n",
       "</style>\n",
       "<table border=\"1\" class=\"dataframe\">\n",
       "  <thead>\n",
       "    <tr style=\"text-align: right;\">\n",
       "      <th></th>\n",
       "      <th>Pressure</th>\n",
       "      <th>Liq_Sat</th>\n",
       "    </tr>\n",
       "  </thead>\n",
       "  <tbody>\n",
       "    <tr>\n",
       "      <th>0</th>\n",
       "      <td>1.0</td>\n",
       "      <td>1.000</td>\n",
       "    </tr>\n",
       "    <tr>\n",
       "      <th>4</th>\n",
       "      <td>10.0</td>\n",
       "      <td>1.010</td>\n",
       "    </tr>\n",
       "    <tr>\n",
       "      <th>8</th>\n",
       "      <td>20.0</td>\n",
       "      <td>1.017</td>\n",
       "    </tr>\n",
       "    <tr>\n",
       "      <th>12</th>\n",
       "      <td>30.0</td>\n",
       "      <td>1.022</td>\n",
       "    </tr>\n",
       "    <tr>\n",
       "      <th>16</th>\n",
       "      <td>40.0</td>\n",
       "      <td>1.027</td>\n",
       "    </tr>\n",
       "    <tr>\n",
       "      <th>...</th>\n",
       "      <td>...</td>\n",
       "      <td>...</td>\n",
       "    </tr>\n",
       "    <tr>\n",
       "      <th>524</th>\n",
       "      <td>10600.0</td>\n",
       "      <td>1.474</td>\n",
       "    </tr>\n",
       "    <tr>\n",
       "      <th>528</th>\n",
       "      <td>10800.0</td>\n",
       "      <td>1.481</td>\n",
       "    </tr>\n",
       "    <tr>\n",
       "      <th>532</th>\n",
       "      <td>11000.0</td>\n",
       "      <td>1.489</td>\n",
       "    </tr>\n",
       "    <tr>\n",
       "      <th>536</th>\n",
       "      <td>11200.0</td>\n",
       "      <td>1.496</td>\n",
       "    </tr>\n",
       "    <tr>\n",
       "      <th>540</th>\n",
       "      <td>11400.0</td>\n",
       "      <td>1.504</td>\n",
       "    </tr>\n",
       "  </tbody>\n",
       "</table>\n",
       "<p>136 rows × 2 columns</p>\n",
       "</div>"
      ],
      "text/plain": [
       "     Pressure  Liq_Sat\n",
       "0         1.0    1.000\n",
       "4        10.0    1.010\n",
       "8        20.0    1.017\n",
       "12       30.0    1.022\n",
       "16       40.0    1.027\n",
       "..        ...      ...\n",
       "524   10600.0    1.474\n",
       "528   10800.0    1.481\n",
       "532   11000.0    1.489\n",
       "536   11200.0    1.496\n",
       "540   11400.0    1.504\n",
       "\n",
       "[136 rows x 2 columns]"
      ]
     },
     "execution_count": 12,
     "metadata": {},
     "output_type": "execute_result"
    }
   ],
   "source": [
    "V_data[['Pressure','Liq_Sat']]"
   ]
  },
  {
   "cell_type": "markdown",
   "id": "9106290e",
   "metadata": {},
   "source": [
    "# specific volume of saturated liquid for Pressure < 300 kpa\n"
   ]
  },
  {
   "cell_type": "code",
   "execution_count": 14,
   "id": "41b9fc62",
   "metadata": {},
   "outputs": [],
   "source": [
    " range1=V_data[(V_data.Pressure<300)].iloc[:,[0,2]]"
   ]
  },
  {
   "cell_type": "code",
   "execution_count": 15,
   "id": "bd4c568d",
   "metadata": {},
   "outputs": [
    {
     "data": {
      "text/html": [
       "<div>\n",
       "<style scoped>\n",
       "    .dataframe tbody tr th:only-of-type {\n",
       "        vertical-align: middle;\n",
       "    }\n",
       "\n",
       "    .dataframe tbody tr th {\n",
       "        vertical-align: top;\n",
       "    }\n",
       "\n",
       "    .dataframe thead th {\n",
       "        text-align: right;\n",
       "    }\n",
       "</style>\n",
       "<table border=\"1\" class=\"dataframe\">\n",
       "  <thead>\n",
       "    <tr style=\"text-align: right;\">\n",
       "      <th></th>\n",
       "      <th>Pressure</th>\n",
       "      <th>Liq_Sat</th>\n",
       "    </tr>\n",
       "  </thead>\n",
       "  <tbody>\n",
       "    <tr>\n",
       "      <th>0</th>\n",
       "      <td>1.000</td>\n",
       "      <td>1.000</td>\n",
       "    </tr>\n",
       "    <tr>\n",
       "      <th>4</th>\n",
       "      <td>10.000</td>\n",
       "      <td>1.010</td>\n",
       "    </tr>\n",
       "    <tr>\n",
       "      <th>8</th>\n",
       "      <td>20.000</td>\n",
       "      <td>1.017</td>\n",
       "    </tr>\n",
       "    <tr>\n",
       "      <th>12</th>\n",
       "      <td>30.000</td>\n",
       "      <td>1.022</td>\n",
       "    </tr>\n",
       "    <tr>\n",
       "      <th>16</th>\n",
       "      <td>40.000</td>\n",
       "      <td>1.027</td>\n",
       "    </tr>\n",
       "    <tr>\n",
       "      <th>20</th>\n",
       "      <td>50.000</td>\n",
       "      <td>1.030</td>\n",
       "    </tr>\n",
       "    <tr>\n",
       "      <th>24</th>\n",
       "      <td>75.000</td>\n",
       "      <td>1.037</td>\n",
       "    </tr>\n",
       "    <tr>\n",
       "      <th>28</th>\n",
       "      <td>100.000</td>\n",
       "      <td>1.043</td>\n",
       "    </tr>\n",
       "    <tr>\n",
       "      <th>32</th>\n",
       "      <td>101.325</td>\n",
       "      <td>1.044</td>\n",
       "    </tr>\n",
       "    <tr>\n",
       "      <th>36</th>\n",
       "      <td>125.000</td>\n",
       "      <td>1.049</td>\n",
       "    </tr>\n",
       "    <tr>\n",
       "      <th>40</th>\n",
       "      <td>150.000</td>\n",
       "      <td>1.053</td>\n",
       "    </tr>\n",
       "    <tr>\n",
       "      <th>44</th>\n",
       "      <td>175.000</td>\n",
       "      <td>1.057</td>\n",
       "    </tr>\n",
       "    <tr>\n",
       "      <th>48</th>\n",
       "      <td>200.000</td>\n",
       "      <td>1.061</td>\n",
       "    </tr>\n",
       "    <tr>\n",
       "      <th>52</th>\n",
       "      <td>225.000</td>\n",
       "      <td>1.064</td>\n",
       "    </tr>\n",
       "    <tr>\n",
       "      <th>56</th>\n",
       "      <td>250.000</td>\n",
       "      <td>1.068</td>\n",
       "    </tr>\n",
       "    <tr>\n",
       "      <th>60</th>\n",
       "      <td>275.000</td>\n",
       "      <td>1.071</td>\n",
       "    </tr>\n",
       "  </tbody>\n",
       "</table>\n",
       "</div>"
      ],
      "text/plain": [
       "    Pressure  Liq_Sat\n",
       "0      1.000    1.000\n",
       "4     10.000    1.010\n",
       "8     20.000    1.017\n",
       "12    30.000    1.022\n",
       "16    40.000    1.027\n",
       "20    50.000    1.030\n",
       "24    75.000    1.037\n",
       "28   100.000    1.043\n",
       "32   101.325    1.044\n",
       "36   125.000    1.049\n",
       "40   150.000    1.053\n",
       "44   175.000    1.057\n",
       "48   200.000    1.061\n",
       "52   225.000    1.064\n",
       "56   250.000    1.068\n",
       "60   275.000    1.071"
      ]
     },
     "execution_count": 15,
     "metadata": {},
     "output_type": "execute_result"
    }
   ],
   "source": [
    "range1"
   ]
  },
  {
   "cell_type": "code",
   "execution_count": null,
   "id": "3c77f969",
   "metadata": {},
   "outputs": [],
   "source": []
  },
  {
   "cell_type": "code",
   "execution_count": 26,
   "id": "16733ab5",
   "metadata": {},
   "outputs": [
    {
     "data": {
      "image/png": "[encoded data removed]",
      "text/plain": [
       "<Figure size 640x480 with 1 Axes>"
      ]
     },
     "metadata": {},
     "output_type": "display_data"
    }
   ],
   "source": [
    "x=range1['Pressure']\n",
    "x=(x-x.mean())/x.max()\n",
    "y=range1['Liq_Sat']\n",
    "y=(y-y.mean())/y.max()\n",
    "plt.scatter(x, y,color='green',marker='*');"
   ]
  },
  {
   "cell_type": "code",
   "execution_count": 20,
   "id": "4c21d68d",
   "metadata": {},
   "outputs": [],
   "source": [
    "def loss(y_hat, y):\n",
    "    l = (y_hat - y) ** 2 / 2\n",
    "    return l.mean()"
   ]
  },
  {
   "cell_type": "code",
   "execution_count": 21,
   "id": "33fa2218",
   "metadata": {},
   "outputs": [],
   "source": [
    "def forward_pass(x,m,c):\n",
    "    return m*x+c"
   ]
  },
  {
   "cell_type": "code",
   "execution_count": 22,
   "id": "72bc5d57",
   "metadata": {},
   "outputs": [],
   "source": [
    "L=[]\n",
    "N=x.shape[0]"
   ]
  },
  {
   "cell_type": "code",
   "execution_count": 25,
   "id": "846d98f1",
   "metadata": {
    "scrolled": false
   },
   "outputs": [
    {
     "name": "stdout",
     "output_type": "stream",
     "text": [
      "no of iterations: 0\n"
     ]
    },
    {
     "data": {
      "image/png": "[encoded data removed]",
      "text/plain": [
       "<Figure size 640x480 with 1 Axes>"
      ]
     },
     "metadata": {},
     "output_type": "display_data"
    },
    {
     "name": "stdout",
     "output_type": "stream",
     "text": [
      "no of iterations: 5000\n"
     ]
    },
    {
     "data": {
      "image/png": "[encoded data removed]",
      "text/plain": [
       "<Figure size 640x480 with 1 Axes>"
      ]
     },
     "metadata": {},
     "output_type": "display_data"
    }
   ],
   "source": [
    "# Random Initialisation\n",
    "m1 = np.random.randn(1)\n",
    "c1 = np.random.randn(1)\n",
    "\n",
    "# Hyperparameters\n",
    "learningrate = 0.01\n",
    "numiter = 10000\n",
    "\n",
    "for i in range(numiter):\n",
    "    # forward pass\n",
    "    y_hat=forward_pass(x,m1,c1)\n",
    "    # Loss\n",
    "   \n",
    "    # Gradient\n",
    "    dm = (2.0/N) *  -np.sum(np.multiply(x,(y - (m1*x +c1))))\n",
    "   \n",
    "    dc = (2.0/N) * -np.sum(y - (m1*x + c1))\n",
    "    \n",
    "    m1 = m1 -learningrate * dm\n",
    "    c1 = c1 - learningrate * dm\n",
    "    if i%5000==0:\n",
    "        L.append(loss(y_hat,y))\n",
    "        print (\"no of iterations:\",i )\n",
    "        plt.plot(x,y,'ro')\n",
    "        plt.plot(x,y_hat,'b*')\n",
    "    #plt.plot(x,m1*x+c1,'r*')\n",
    "        plt.ylabel('range1')\n",
    "        plt.show()"
   ]
  },
  {
   "cell_type": "code",
   "execution_count": 158,
   "id": "a0542280",
   "metadata": {},
   "outputs": [
    {
     "data": {
      "text/plain": [
       "[<matplotlib.lines.Line2D at 0x263dd5a3f10>]"
      ]
     },
     "execution_count": 158,
     "metadata": {},
     "output_type": "execute_result"
    },
    {
     "data": {
      "image/png": "[encoded data removed]",
      "text/plain": [
       "<Figure size 640x480 with 1 Axes>"
      ]
     },
     "metadata": {},
     "output_type": "display_data"
    }
   ],
   "source": [
    "plt.plot(L)"
   ]
  },
  {
   "cell_type": "markdown",
   "id": "d3bc6571",
   "metadata": {},
   "source": [
    "# specific volume of saturated liquid for Pressure =>300 kpa and <1500"
   ]
  },
  {
   "cell_type": "code",
   "execution_count": 30,
   "id": "1ffb3492",
   "metadata": {},
   "outputs": [],
   "source": [
    "range2=V_data[(V_data.Pressure<=1500)&(V_data.Pressure>=300)].iloc[:,[0,2]]"
   ]
  },
  {
   "cell_type": "code",
   "execution_count": 31,
   "id": "00412857",
   "metadata": {},
   "outputs": [
    {
     "data": {
      "text/html": [
       "<div>\n",
       "<style scoped>\n",
       "    .dataframe tbody tr th:only-of-type {\n",
       "        vertical-align: middle;\n",
       "    }\n",
       "\n",
       "    .dataframe tbody tr th {\n",
       "        vertical-align: top;\n",
       "    }\n",
       "\n",
       "    .dataframe thead th {\n",
       "        text-align: right;\n",
       "    }\n",
       "</style>\n",
       "<table border=\"1\" class=\"dataframe\">\n",
       "  <thead>\n",
       "    <tr style=\"text-align: right;\">\n",
       "      <th></th>\n",
       "      <th>Pressure</th>\n",
       "      <th>Liq_Sat</th>\n",
       "    </tr>\n",
       "  </thead>\n",
       "  <tbody>\n",
       "    <tr>\n",
       "      <th>64</th>\n",
       "      <td>300.0</td>\n",
       "      <td>1.073</td>\n",
       "    </tr>\n",
       "    <tr>\n",
       "      <th>68</th>\n",
       "      <td>325.0</td>\n",
       "      <td>1.076</td>\n",
       "    </tr>\n",
       "    <tr>\n",
       "      <th>72</th>\n",
       "      <td>350.0</td>\n",
       "      <td>1.079</td>\n",
       "    </tr>\n",
       "    <tr>\n",
       "      <th>76</th>\n",
       "      <td>375.0</td>\n",
       "      <td>1.081</td>\n",
       "    </tr>\n",
       "    <tr>\n",
       "      <th>80</th>\n",
       "      <td>400.0</td>\n",
       "      <td>1.084</td>\n",
       "    </tr>\n",
       "    <tr>\n",
       "      <th>84</th>\n",
       "      <td>425.0</td>\n",
       "      <td>1.086</td>\n",
       "    </tr>\n",
       "    <tr>\n",
       "      <th>88</th>\n",
       "      <td>450.0</td>\n",
       "      <td>1.088</td>\n",
       "    </tr>\n",
       "    <tr>\n",
       "      <th>92</th>\n",
       "      <td>475.0</td>\n",
       "      <td>1.091</td>\n",
       "    </tr>\n",
       "    <tr>\n",
       "      <th>96</th>\n",
       "      <td>500.0</td>\n",
       "      <td>1.093</td>\n",
       "    </tr>\n",
       "    <tr>\n",
       "      <th>100</th>\n",
       "      <td>525.0</td>\n",
       "      <td>1.095</td>\n",
       "    </tr>\n",
       "    <tr>\n",
       "      <th>104</th>\n",
       "      <td>550.0</td>\n",
       "      <td>1.097</td>\n",
       "    </tr>\n",
       "    <tr>\n",
       "      <th>108</th>\n",
       "      <td>575.0</td>\n",
       "      <td>1.099</td>\n",
       "    </tr>\n",
       "    <tr>\n",
       "      <th>112</th>\n",
       "      <td>600.0</td>\n",
       "      <td>1.101</td>\n",
       "    </tr>\n",
       "    <tr>\n",
       "      <th>116</th>\n",
       "      <td>625.0</td>\n",
       "      <td>1.103</td>\n",
       "    </tr>\n",
       "    <tr>\n",
       "      <th>120</th>\n",
       "      <td>650.0</td>\n",
       "      <td>1.105</td>\n",
       "    </tr>\n",
       "    <tr>\n",
       "      <th>124</th>\n",
       "      <td>675.0</td>\n",
       "      <td>1.106</td>\n",
       "    </tr>\n",
       "    <tr>\n",
       "      <th>128</th>\n",
       "      <td>700.0</td>\n",
       "      <td>1.108</td>\n",
       "    </tr>\n",
       "    <tr>\n",
       "      <th>132</th>\n",
       "      <td>725.0</td>\n",
       "      <td>1.110</td>\n",
       "    </tr>\n",
       "    <tr>\n",
       "      <th>136</th>\n",
       "      <td>750.0</td>\n",
       "      <td>1.112</td>\n",
       "    </tr>\n",
       "    <tr>\n",
       "      <th>140</th>\n",
       "      <td>775.0</td>\n",
       "      <td>1.113</td>\n",
       "    </tr>\n",
       "    <tr>\n",
       "      <th>144</th>\n",
       "      <td>800.0</td>\n",
       "      <td>1.115</td>\n",
       "    </tr>\n",
       "    <tr>\n",
       "      <th>148</th>\n",
       "      <td>825.0</td>\n",
       "      <td>1.117</td>\n",
       "    </tr>\n",
       "    <tr>\n",
       "      <th>152</th>\n",
       "      <td>850.0</td>\n",
       "      <td>1.118</td>\n",
       "    </tr>\n",
       "    <tr>\n",
       "      <th>156</th>\n",
       "      <td>875.0</td>\n",
       "      <td>1.120</td>\n",
       "    </tr>\n",
       "    <tr>\n",
       "      <th>160</th>\n",
       "      <td>900.0</td>\n",
       "      <td>1.121</td>\n",
       "    </tr>\n",
       "    <tr>\n",
       "      <th>164</th>\n",
       "      <td>925.0</td>\n",
       "      <td>1.123</td>\n",
       "    </tr>\n",
       "    <tr>\n",
       "      <th>168</th>\n",
       "      <td>950.0</td>\n",
       "      <td>1.124</td>\n",
       "    </tr>\n",
       "    <tr>\n",
       "      <th>172</th>\n",
       "      <td>975.0</td>\n",
       "      <td>1.126</td>\n",
       "    </tr>\n",
       "    <tr>\n",
       "      <th>176</th>\n",
       "      <td>1000.0</td>\n",
       "      <td>1.127</td>\n",
       "    </tr>\n",
       "    <tr>\n",
       "      <th>180</th>\n",
       "      <td>1050.0</td>\n",
       "      <td>1.130</td>\n",
       "    </tr>\n",
       "    <tr>\n",
       "      <th>184</th>\n",
       "      <td>1100.0</td>\n",
       "      <td>1.133</td>\n",
       "    </tr>\n",
       "    <tr>\n",
       "      <th>188</th>\n",
       "      <td>1150.0</td>\n",
       "      <td>1.136</td>\n",
       "    </tr>\n",
       "    <tr>\n",
       "      <th>192</th>\n",
       "      <td>1200.0</td>\n",
       "      <td>1.139</td>\n",
       "    </tr>\n",
       "    <tr>\n",
       "      <th>196</th>\n",
       "      <td>1250.0</td>\n",
       "      <td>1.141</td>\n",
       "    </tr>\n",
       "    <tr>\n",
       "      <th>200</th>\n",
       "      <td>1300.0</td>\n",
       "      <td>1.144</td>\n",
       "    </tr>\n",
       "    <tr>\n",
       "      <th>204</th>\n",
       "      <td>1350.0</td>\n",
       "      <td>1.146</td>\n",
       "    </tr>\n",
       "    <tr>\n",
       "      <th>208</th>\n",
       "      <td>1400.0</td>\n",
       "      <td>1.149</td>\n",
       "    </tr>\n",
       "    <tr>\n",
       "      <th>212</th>\n",
       "      <td>1450.0</td>\n",
       "      <td>1.151</td>\n",
       "    </tr>\n",
       "    <tr>\n",
       "      <th>216</th>\n",
       "      <td>1500.0</td>\n",
       "      <td>1.154</td>\n",
       "    </tr>\n",
       "  </tbody>\n",
       "</table>\n",
       "</div>"
      ],
      "text/plain": [
       "     Pressure  Liq_Sat\n",
       "64      300.0    1.073\n",
       "68      325.0    1.076\n",
       "72      350.0    1.079\n",
       "76      375.0    1.081\n",
       "80      400.0    1.084\n",
       "84      425.0    1.086\n",
       "88      450.0    1.088\n",
       "92      475.0    1.091\n",
       "96      500.0    1.093\n",
       "100     525.0    1.095\n",
       "104     550.0    1.097\n",
       "108     575.0    1.099\n",
       "112     600.0    1.101\n",
       "116     625.0    1.103\n",
       "120     650.0    1.105\n",
       "124     675.0    1.106\n",
       "128     700.0    1.108\n",
       "132     725.0    1.110\n",
       "136     750.0    1.112\n",
       "140     775.0    1.113\n",
       "144     800.0    1.115\n",
       "148     825.0    1.117\n",
       "152     850.0    1.118\n",
       "156     875.0    1.120\n",
       "160     900.0    1.121\n",
       "164     925.0    1.123\n",
       "168     950.0    1.124\n",
       "172     975.0    1.126\n",
       "176    1000.0    1.127\n",
       "180    1050.0    1.130\n",
       "184    1100.0    1.133\n",
       "188    1150.0    1.136\n",
       "192    1200.0    1.139\n",
       "196    1250.0    1.141\n",
       "200    1300.0    1.144\n",
       "204    1350.0    1.146\n",
       "208    1400.0    1.149\n",
       "212    1450.0    1.151\n",
       "216    1500.0    1.154"
      ]
     },
     "execution_count": 31,
     "metadata": {},
     "output_type": "execute_result"
    }
   ],
   "source": [
    "range2"
   ]
  },
  {
   "cell_type": "code",
   "execution_count": 34,
   "id": "925ab0b7",
   "metadata": {},
   "outputs": [
    {
     "data": {
      "image/png": "[encoded data removed]",
      "text/plain": [
       "<Figure size 640x480 with 1 Axes>"
      ]
     },
     "metadata": {},
     "output_type": "display_data"
    }
   ],
   "source": [
    "x=range2['Pressure']\n",
    "x=(x-x.mean())/x.max()\n",
    "y=range2['Liq_Sat']\n",
    "y=(y-y.mean())/y.max()\n",
    "plt.scatter(x, y,color='blue',marker='.');"
   ]
  },
  {
   "cell_type": "code",
   "execution_count": 35,
   "id": "19fc9de4",
   "metadata": {
    "scrolled": false
   },
   "outputs": [
    {
     "name": "stdout",
     "output_type": "stream",
     "text": [
      "no of iterations: 0\n"
     ]
    },
    {
     "data": {
      "image/png": "[encoded data removed]",
      "text/plain": [
       "<Figure size 640x480 with 1 Axes>"
      ]
     },
     "metadata": {},
     "output_type": "display_data"
    },
    {
     "name": "stdout",
     "output_type": "stream",
     "text": [
      "no of iterations: 5000\n"
     ]
    },
    {
     "data": {
      "image/png": "[encoded data removed]",
      "text/plain": [
       "<Figure size 640x480 with 1 Axes>"
      ]
     },
     "metadata": {},
     "output_type": "display_data"
    }
   ],
   "source": [
    "# Random Initialisation\n",
    "m1 = np.random.randn(1)\n",
    "c1 = np.random.randn(1)\n",
    "\n",
    "# Hyperparameters\n",
    "learningrate = 0.01\n",
    "numiter = 10000\n",
    "\n",
    "for i in range(numiter):\n",
    "    # forward pass\n",
    "    y_hat=forward_pass(x,m1,c1)\n",
    "    # Loss\n",
    "   \n",
    "    # Gradient\n",
    "    dm = (2.0/N) *  -np.sum(np.multiply(x,(y - (m1*x +c1))))\n",
    "   \n",
    "    dc = (2.0/N) * -np.sum(y - (m1*x + c1))\n",
    "    \n",
    "    m1 = m1 -learningrate * dm\n",
    "    c1 = c1 - learningrate * dm\n",
    "    if i%5000==0:\n",
    "        L.append(loss(y_hat,y))\n",
    "        print (\"no of iterations:\",i )\n",
    "        plt.plot(x,y,'ro')\n",
    "        plt.plot(x,y_hat,'b*')\n",
    "    #plt.plot(x,m1*x+c1,'r*')\n",
    "        plt.ylabel('range2')\n",
    "        plt.show()"
   ]
  },
  {
   "cell_type": "markdown",
   "id": "4a3a4679",
   "metadata": {},
   "source": [
    "# specific volume of saturated liquid for Pressure > 1500 kpa"
   ]
  },
  {
   "cell_type": "code",
   "execution_count": 36,
   "id": "10c224ca",
   "metadata": {},
   "outputs": [],
   "source": [
    "range3=V_data[(V_data.Pressure>1500)].iloc[:,[0,2]]"
   ]
  },
  {
   "cell_type": "code",
   "execution_count": 37,
   "id": "9ad7f25c",
   "metadata": {},
   "outputs": [
    {
     "data": {
      "text/html": [
       "<div>\n",
       "<style scoped>\n",
       "    .dataframe tbody tr th:only-of-type {\n",
       "        vertical-align: middle;\n",
       "    }\n",
       "\n",
       "    .dataframe tbody tr th {\n",
       "        vertical-align: top;\n",
       "    }\n",
       "\n",
       "    .dataframe thead th {\n",
       "        text-align: right;\n",
       "    }\n",
       "</style>\n",
       "<table border=\"1\" class=\"dataframe\">\n",
       "  <thead>\n",
       "    <tr style=\"text-align: right;\">\n",
       "      <th></th>\n",
       "      <th>Pressure</th>\n",
       "      <th>Liq_Sat</th>\n",
       "    </tr>\n",
       "  </thead>\n",
       "  <tbody>\n",
       "    <tr>\n",
       "      <th>220</th>\n",
       "      <td>1550.0</td>\n",
       "      <td>1.156</td>\n",
       "    </tr>\n",
       "    <tr>\n",
       "      <th>224</th>\n",
       "      <td>1600.0</td>\n",
       "      <td>1.159</td>\n",
       "    </tr>\n",
       "    <tr>\n",
       "      <th>228</th>\n",
       "      <td>1650.0</td>\n",
       "      <td>1.161</td>\n",
       "    </tr>\n",
       "    <tr>\n",
       "      <th>232</th>\n",
       "      <td>1700.0</td>\n",
       "      <td>1.163</td>\n",
       "    </tr>\n",
       "    <tr>\n",
       "      <th>236</th>\n",
       "      <td>1750.0</td>\n",
       "      <td>1.166</td>\n",
       "    </tr>\n",
       "    <tr>\n",
       "      <th>...</th>\n",
       "      <td>...</td>\n",
       "      <td>...</td>\n",
       "    </tr>\n",
       "    <tr>\n",
       "      <th>524</th>\n",
       "      <td>10600.0</td>\n",
       "      <td>1.474</td>\n",
       "    </tr>\n",
       "    <tr>\n",
       "      <th>528</th>\n",
       "      <td>10800.0</td>\n",
       "      <td>1.481</td>\n",
       "    </tr>\n",
       "    <tr>\n",
       "      <th>532</th>\n",
       "      <td>11000.0</td>\n",
       "      <td>1.489</td>\n",
       "    </tr>\n",
       "    <tr>\n",
       "      <th>536</th>\n",
       "      <td>11200.0</td>\n",
       "      <td>1.496</td>\n",
       "    </tr>\n",
       "    <tr>\n",
       "      <th>540</th>\n",
       "      <td>11400.0</td>\n",
       "      <td>1.504</td>\n",
       "    </tr>\n",
       "  </tbody>\n",
       "</table>\n",
       "<p>81 rows × 2 columns</p>\n",
       "</div>"
      ],
      "text/plain": [
       "     Pressure  Liq_Sat\n",
       "220    1550.0    1.156\n",
       "224    1600.0    1.159\n",
       "228    1650.0    1.161\n",
       "232    1700.0    1.163\n",
       "236    1750.0    1.166\n",
       "..        ...      ...\n",
       "524   10600.0    1.474\n",
       "528   10800.0    1.481\n",
       "532   11000.0    1.489\n",
       "536   11200.0    1.496\n",
       "540   11400.0    1.504\n",
       "\n",
       "[81 rows x 2 columns]"
      ]
     },
     "execution_count": 37,
     "metadata": {},
     "output_type": "execute_result"
    }
   ],
   "source": [
    "range3"
   ]
  },
  {
   "cell_type": "code",
   "execution_count": 39,
   "id": "70c9db55",
   "metadata": {},
   "outputs": [
    {
     "data": {
      "image/png": "[encoded data removed]",
      "text/plain": [
       "<Figure size 640x480 with 1 Axes>"
      ]
     },
     "metadata": {},
     "output_type": "display_data"
    }
   ],
   "source": [
    "x=range3['Pressure']\n",
    "x=(x-x.mean())/x.max()\n",
    "y=range3['Liq_Sat']\n",
    "y=(y-y.mean())/y.max()\n",
    "plt.scatter(x, y,color='blue',marker='.');"
   ]
  },
  {
   "cell_type": "code",
   "execution_count": 40,
   "id": "4a8876f8",
   "metadata": {
    "scrolled": false
   },
   "outputs": [
    {
     "name": "stdout",
     "output_type": "stream",
     "text": [
      "no of iterations: 0\n"
     ]
    },
    {
     "data": {
      "image/png": "[encoded data removed]",
      "text/plain": [
       "<Figure size 640x480 with 1 Axes>"
      ]
     },
     "metadata": {},
     "output_type": "display_data"
    },
    {
     "name": "stdout",
     "output_type": "stream",
     "text": [
      "no of iterations: 5000\n"
     ]
    },
    {
     "data": {
      "image/png": "[encoded data removed]",
      "text/plain": [
       "<Figure size 640x480 with 1 Axes>"
      ]
     },
     "metadata": {},
     "output_type": "display_data"
    }
   ],
   "source": [
    "# Random Initialisation\n",
    "m1 = np.random.randn(1)\n",
    "c1 = np.random.randn(1)\n",
    "\n",
    "# Hyperparameters\n",
    "learningrate = 0.001\n",
    "numiter = 10000\n",
    "\n",
    "for i in range(numiter):\n",
    "    # forward pass\n",
    "    y_hat=forward_pass(x,m1,c1)\n",
    "    # Loss\n",
    "   \n",
    "    # Gradient\n",
    "    dm = (2.0/N) *  -np.sum(np.multiply(x,(y - (m1*x +c1))))\n",
    "   \n",
    "    dc = (2.0/N) * -np.sum(y - (m1*x + c1))\n",
    "    \n",
    "    m1 = m1 -learningrate * dm\n",
    "    c1 = c1 - learningrate * dm\n",
    "    if i%5000==0:\n",
    "        L.append(loss(y_hat,y))\n",
    "        print (\"no of iterations:\",i )\n",
    "        plt.plot(x,y,'ro')\n",
    "        plt.plot(x,y_hat,'b*')\n",
    "    #plt.plot(x,m1*x+c1,'r*')\n",
    "        plt.ylabel('range3')\n",
    "        plt.show()"
   ]
  },
  {
   "cell_type": "markdown",
   "id": "d989a436",
   "metadata": {},
   "source": [
    "# by sklearn implementation"
   ]
  },
  {
   "cell_type": "code",
   "execution_count": 41,
   "id": "42254b77",
   "metadata": {},
   "outputs": [],
   "source": [
    "from sklearn import linear_model\n",
    "from sklearn.metrics import r2_score"
   ]
  },
  {
   "cell_type": "code",
   "execution_count": 42,
   "id": "b2aa6239",
   "metadata": {},
   "outputs": [
    {
     "data": {
      "text/plain": [
       "<matplotlib.collections.PathCollection at 0x7fce387aaaf0>"
      ]
     },
     "execution_count": 42,
     "metadata": {},
     "output_type": "execute_result"
    },
    {
     "data": {
      "image/png": "[encoded data removed]",
      "text/plain": [
       "<Figure size 640x480 with 1 Axes>"
      ]
     },
     "metadata": {},
     "output_type": "display_data"
    }
   ],
   "source": [
    "plt.xlabel('pressure')\n",
    "plt.ylabel('Liq_Sat')\n",
    "plt.scatter(range1.Pressure,range1.Liq_Sat,color='green',marker='.')"
   ]
  },
  {
   "cell_type": "code",
   "execution_count": 44,
   "id": "e72f6610",
   "metadata": {},
   "outputs": [
    {
     "data": {
      "text/plain": [
       "LinearRegression()"
      ]
     },
     "execution_count": 44,
     "metadata": {},
     "output_type": "execute_result"
    }
   ],
   "source": [
    "reg=linear_model.LinearRegression()\n",
    "reg.fit(range1[['Pressure']],range1.Liq_Sat)"
   ]
  },
  {
   "cell_type": "code",
   "execution_count": 45,
   "id": "77dd738d",
   "metadata": {},
   "outputs": [
    {
     "data": {
      "text/plain": [
       "array([0.00023137])"
      ]
     },
     "execution_count": 45,
     "metadata": {},
     "output_type": "execute_result"
    }
   ],
   "source": [
    "reg.coef_"
   ]
  },
  {
   "cell_type": "code",
   "execution_count": 46,
   "id": "fb47793b",
   "metadata": {},
   "outputs": [
    {
     "data": {
      "text/plain": [
       "1.0143878627679743"
      ]
     },
     "execution_count": 46,
     "metadata": {},
     "output_type": "execute_result"
    }
   ],
   "source": [
    "reg.intercept_"
   ]
  },
  {
   "cell_type": "code",
   "execution_count": 48,
   "id": "88d5e084",
   "metadata": {},
   "outputs": [
    {
     "data": {
      "text/plain": [
       "[<matplotlib.lines.Line2D at 0x7fce28584400>]"
      ]
     },
     "execution_count": 48,
     "metadata": {},
     "output_type": "execute_result"
    },
    {
     "data": {
      "image/png": "[encoded data removed]",
      "text/plain": [
       "<Figure size 640x480 with 1 Axes>"
      ]
     },
     "metadata": {},
     "output_type": "display_data"
    }
   ],
   "source": [
    "%matplotlib inline\n",
    "plt.xlabel('pressure')\n",
    "plt.ylabel('Liq_Sat')\n",
    "plt.scatter(range1.Pressure,range1.Liq_Sat,color='green',marker='+')\n",
    "plt.plot(range1.Pressure,reg.predict(range1[['Pressure']]),color='red')"
   ]
  },
  {
   "cell_type": "code",
   "execution_count": 49,
   "id": "ed1bd533",
   "metadata": {},
   "outputs": [
    {
     "data": {
      "text/plain": [
       "-1.7042942829583545"
      ]
     },
     "execution_count": 49,
     "metadata": {},
     "output_type": "execute_result"
    }
   ],
   "source": [
    "r2_score(range1.Pressure,range1.Liq_Sat)"
   ]
  },
  {
   "cell_type": "code",
   "execution_count": 50,
   "id": "df16f228",
   "metadata": {},
   "outputs": [
    {
     "data": {
      "text/plain": [
       "<matplotlib.collections.PathCollection at 0x7fce285a2f40>"
      ]
     },
     "execution_count": 50,
     "metadata": {},
     "output_type": "execute_result"
    },
    {
     "data": {
      "image/png": "[encoded data removed]",
      "text/plain": [
       "<Figure size 640x480 with 1 Axes>"
      ]
     },
     "metadata": {},
     "output_type": "display_data"
    }
   ],
   "source": [
    "plt.xlabel('pressure')\n",
    "plt.ylabel('Liq_Sat')\n",
    "plt.scatter(range2.Pressure,range2.Liq_Sat,color='green',marker='.')"
   ]
  },
  {
   "cell_type": "code",
   "execution_count": 182,
   "id": "92962e28",
   "metadata": {},
   "outputs": [
    {
     "data": {
      "text/plain": [
       "LinearRegression()"
      ]
     },
     "execution_count": 182,
     "metadata": {},
     "output_type": "execute_result"
    }
   ],
   "source": [
    "reg=linear_model.LinearRegression()\n",
    "reg.fit(range2[['Pressure']],range2.Liq_Sat)"
   ]
  },
  {
   "cell_type": "code",
   "execution_count": 183,
   "id": "0f719279",
   "metadata": {},
   "outputs": [
    {
     "data": {
      "text/plain": [
       "array([6.59249881e-05])"
      ]
     },
     "execution_count": 183,
     "metadata": {},
     "output_type": "execute_result"
    }
   ],
   "source": [
    "reg.coef_"
   ]
  },
  {
   "cell_type": "code",
   "execution_count": 184,
   "id": "c301fae0",
   "metadata": {},
   "outputs": [
    {
     "data": {
      "text/plain": [
       "1.0597633429690072"
      ]
     },
     "execution_count": 184,
     "metadata": {},
     "output_type": "execute_result"
    }
   ],
   "source": [
    "reg.intercept_"
   ]
  },
  {
   "cell_type": "code",
   "execution_count": 51,
   "id": "9b272d15",
   "metadata": {},
   "outputs": [
    {
     "data": {
      "text/plain": [
       "[<matplotlib.lines.Line2D at 0x7fce4a077c40>]"
      ]
     },
     "execution_count": 51,
     "metadata": {},
     "output_type": "execute_result"
    },
    {
     "data": {
      "image/png": "[encoded data removed]",
      "text/plain": [
       "<Figure size 640x480 with 1 Axes>"
      ]
     },
     "metadata": {},
     "output_type": "display_data"
    }
   ],
   "source": [
    "%matplotlib inline\n",
    "plt.xlabel('pressure')\n",
    "plt.ylabel('Liq_Sat')\n",
    "plt.scatter(range2.Pressure,range2.Liq_Sat,color='green',marker='+')\n",
    "plt.plot(range2.Pressure,reg.predict(range2[['Pressure']]),color='red')"
   ]
  },
  {
   "cell_type": "code",
   "execution_count": 186,
   "id": "86c5a553",
   "metadata": {},
   "outputs": [
    {
     "data": {
      "text/plain": [
       "-5.82997167801306"
      ]
     },
     "execution_count": 186,
     "metadata": {},
     "output_type": "execute_result"
    }
   ],
   "source": [
    "r2_score(range2.Pressure,range2.Liq_Sat)"
   ]
  },
  {
   "cell_type": "code",
   "execution_count": 52,
   "id": "8780c4f8",
   "metadata": {},
   "outputs": [
    {
     "data": {
      "text/plain": [
       "<matplotlib.collections.PathCollection at 0x7fce4a202700>"
      ]
     },
     "execution_count": 52,
     "metadata": {},
     "output_type": "execute_result"
    },
    {
     "data": {
      "image/png": "[encoded data removed]",
      "text/plain": [
       "<Figure size 640x480 with 1 Axes>"
      ]
     },
     "metadata": {},
     "output_type": "display_data"
    }
   ],
   "source": [
    "plt.xlabel('pressure')\n",
    "plt.ylabel('Liq_Sat')\n",
    "plt.scatter(range3.Pressure,range3.Liq_Sat,color='green',marker='.')"
   ]
  },
  {
   "cell_type": "code",
   "execution_count": 188,
   "id": "9d04b8ed",
   "metadata": {},
   "outputs": [
    {
     "data": {
      "text/plain": [
       "LinearRegression()"
      ]
     },
     "execution_count": 188,
     "metadata": {},
     "output_type": "execute_result"
    }
   ],
   "source": [
    "reg=linear_model.LinearRegression()\n",
    "reg.fit(range2[['Pressure']],range2.Liq_Sat)"
   ]
  },
  {
   "cell_type": "code",
   "execution_count": 189,
   "id": "385293de",
   "metadata": {},
   "outputs": [
    {
     "data": {
      "text/plain": [
       "array([6.59249881e-05])"
      ]
     },
     "execution_count": 189,
     "metadata": {},
     "output_type": "execute_result"
    }
   ],
   "source": [
    "reg.coef_"
   ]
  },
  {
   "cell_type": "code",
   "execution_count": 190,
   "id": "647bb3bd",
   "metadata": {},
   "outputs": [
    {
     "data": {
      "text/plain": [
       "1.0597633429690072"
      ]
     },
     "execution_count": 190,
     "metadata": {},
     "output_type": "execute_result"
    }
   ],
   "source": [
    "reg.intercept_"
   ]
  },
  {
   "cell_type": "code",
   "execution_count": 53,
   "id": "29b93ecc",
   "metadata": {},
   "outputs": [
    {
     "data": {
      "text/plain": [
       "[<matplotlib.lines.Line2D at 0x7fce4a23a3a0>]"
      ]
     },
     "execution_count": 53,
     "metadata": {},
     "output_type": "execute_result"
    },
    {
     "data": {
      "image/png": "[encoded data removed]",
      "text/plain": [
       "<Figure size 640x480 with 1 Axes>"
      ]
     },
     "metadata": {},
     "output_type": "display_data"
    }
   ],
   "source": [
    "%matplotlib inline\n",
    "plt.xlabel('pressure')\n",
    "plt.ylabel('Liq_Sat')\n",
    "plt.scatter(range2.Pressure,range2.Liq_Sat,color='green',marker='+')\n",
    "plt.plot(range2.Pressure,reg.predict(range2[['Pressure']]),color='red')"
   ]
  },
  {
   "cell_type": "code",
   "execution_count": 54,
   "id": "d4407da6",
   "metadata": {},
   "outputs": [
    {
     "data": {
      "text/plain": [
       "-3.7872529660567"
      ]
     },
     "execution_count": 54,
     "metadata": {},
     "output_type": "execute_result"
    }
   ],
   "source": [
    "r2_score(range3.Pressure,range3.Liq_Sat)"
   ]
  },
  {
   "cell_type": "code",
   "execution_count": null,
   "id": "1307f134",
   "metadata": {},
   "outputs": [],
   "source": []
  }
 ],
 "metadata": {
  "kernelspec": {
   "display_name": "Python 3 (ipykernel)",
   "language": "python",
   "name": "python3"
  },
  "language_info": {
   "codemirror_mode": {
    "name": "ipython",
    "version": 3
   },
   "file_extension": ".py",
   "mimetype": "text/x-python",
   "name": "python",
   "nbconvert_exporter": "python",
   "pygments_lexer": "ipython3",
   "version": "3.9.13"
  }
 },
 "nbformat": 4,
 "nbformat_minor": 5
}
