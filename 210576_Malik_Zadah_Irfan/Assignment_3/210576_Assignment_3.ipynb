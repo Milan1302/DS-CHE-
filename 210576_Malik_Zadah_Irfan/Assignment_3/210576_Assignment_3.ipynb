{
 "cells": [
  {
   "cell_type": "code",
   "execution_count": 23,
   "id": "a06edcd8",
   "metadata": {},
   "outputs": [],
   "source": [
    "import pandas as pd\n",
    "\n",
    "# load the dataset\n",
    "df = pd.read_csv('superheated_vapor_properties.csv')\n"
   ]
  },
  {
   "cell_type": "code",
   "execution_count": 24,
   "id": "9503fd96",
   "metadata": {},
   "outputs": [],
   "source": [
    "# For Pressure < 300 kPa\n",
    "df_pressure_lt_300 = df.loc[(df['Pressure'] < 300) & (df['Property'] == 'V')]\n",
    "X1 = df_pressure_lt_300['Pressure'].values\n",
    "y1 = df_pressure_lt_300['Vap_Sat'].values\n",
    "\n",
    "# For Pressure >= 300 kPa and < 1500 kPa\n",
    "df_pressure_between_300_1500 = df.loc[(df['Pressure'] >= 300) & (df['Pressure'] < 1500) & (df['Property'] == 'V')]\n",
    "X2 = df_pressure_between_300_1500['Pressure'].values\n",
    "y2 = df_pressure_between_300_1500['Vap_Sat'].values\n",
    "\n",
    "# For Pressure >= 1500 kPa\n",
    "df_pressure_gte_1500 = df.loc[(df['Pressure'] >= 1500) & (df['Property'] == 'V')]\n",
    "X3 = df_pressure_gte_1500['Pressure'].values\n",
    "y3 = df_pressure_gte_1500['Vap_Sat'].values"
   ]
  },
  {
   "cell_type": "code",
   "execution_count": 25,
   "id": "225161b0",
   "metadata": {},
   "outputs": [
    {
     "data": {
      "text/plain": [
       "array([  1.   ,  10.   ,  20.   ,  30.   ,  40.   ,  50.   ,  75.   ,\n",
       "       100.   , 101.325, 125.   , 150.   , 175.   , 200.   , 225.   ,\n",
       "       250.   , 275.   ])"
      ]
     },
     "execution_count": 25,
     "metadata": {},
     "output_type": "execute_result"
    }
   ],
   "source": [
    "X1"
   ]
  },
  {
   "cell_type": "code",
   "execution_count": 26,
   "id": "093975a2",
   "metadata": {},
   "outputs": [
    {
     "name": "stdout",
     "output_type": "stream",
     "text": [
      "Pressure Range 1:\n",
      "R2 Score: 0.16815590648253187\n",
      "Slope: [-145.33343846]\n",
      "Intercept: 27608.034714930847\n",
      "Linear Regression Equation: S_V = -145.3334*P + 27608.0347\n",
      "Pressure Range 2:\n",
      "R2 Score: 0.8402322107077735\n",
      "Slope: [-0.35253625]\n",
      "Intercept: 565.9289736090213\n",
      "Linear Regression Equation: S_V = -0.3525*P + 565.9290\n",
      "Pressure Range 3:\n",
      "R2 Score: 0.7640960509847484\n",
      "Slope: [-0.00983263]\n",
      "Intercept: 103.50437059364893\n",
      "Linear Regression Equation: S_V = -0.0098*P + 103.5044\n"
     ]
    }
   ],
   "source": [
    "# For Pressure < 300 kPa\n",
    "df_pressure_lt_300 = df.loc[(df['Pressure'] < 300) & (df['Property'] == 'V')]\n",
    "X1 = df_pressure_lt_300['Pressure'].values\n",
    "y1 = df_pressure_lt_300['Vap_Sat'].values\n",
    "\n",
    "# For Pressure >= 300 kPa and < 1500 kPa\n",
    "df_pressure_between_300_1500 = df.loc[(df['Pressure'] >= 300) & (df['Pressure'] < 1500) & (df['Property'] == 'V')]\n",
    "X2 = df_pressure_between_300_1500['Pressure'].values\n",
    "y2 = df_pressure_between_300_1500['Vap_Sat'].values\n",
    "\n",
    "# For Pressure >= 1500 kPa\n",
    "df_pressure_gte_1500 = df.loc[(df['Pressure'] >= 1500) & (df['Property'] == 'V')]\n",
    "X3 = df_pressure_gte_1500['Pressure'].values\n",
    "y3 = df_pressure_gte_1500['Vap_Sat'].values\n",
    "\n",
    "\n",
    "\n",
    "\n",
    "#uisng library\n",
    "\n",
    "from sklearn.linear_model import LinearRegression\n",
    "\n",
    "# Linear regression for pressure range 1\n",
    "model1 = LinearRegression()\n",
    "model1.fit(X1.reshape(-1, 1), y1)\n",
    "\n",
    "# Linear regression for pressure range 2\n",
    "model2 = LinearRegression()\n",
    "model2.fit(X2.reshape(-1, 1), y2)\n",
    "\n",
    "# Linear regression for pressure range 3\n",
    "model3 = LinearRegression()\n",
    "model3.fit(X3.reshape(-1, 1), y3)\n",
    "# Print results for pressure range 1\n",
    "print(\"Pressure Range 1:\")\n",
    "print(\"R2 Score:\", model1.score(X1.reshape(-1, 1), y1))\n",
    "print(\"Slope:\", model1.coef_)\n",
    "print(\"Intercept:\", model1.intercept_)\n",
    "print(\"Linear Regression Equation: S_V = {:.4f}*P + {:.4f}\".format(model1.coef_[0], model1.intercept_))\n",
    "# Print results for pressure range 2\n",
    "print(\"Pressure Range 2:\")\n",
    "print(\"R2 Score:\", model2.score(X2.reshape(-1, 1), y2))\n",
    "print(\"Slope:\", model2.coef_)\n",
    "print(\"Intercept:\", model2.intercept_)\n",
    "print(\"Linear Regression Equation: S_V = {:.4f}*P + {:.4f}\".format(model2.coef_[0], model2.intercept_))\n",
    "# Print results for pressure range 3\n",
    "print(\"Pressure Range 3:\")\n",
    "print(\"R2 Score:\", model3.score(X3.reshape(-1, 1), y3))\n",
    "print(\"Slope:\", model3.coef_)\n",
    "print(\"Intercept:\", model3.intercept_)\n",
    "print(\"Linear Regression Equation: S_V = {:.4f}*P + {:.4f}\".format(model3.coef_[0], model3.intercept_))"
   ]
  },
  {
   "cell_type": "code",
   "execution_count": 27,
   "id": "2c01eefd",
   "metadata": {},
   "outputs": [],
   "source": [
    "#using scratch implimintation\n",
    "\n",
    "import numpy as np\n",
    "import numpy as np\n",
    "\n",
    "def linear_regression(X, y, learning_rate=1e-8, max_iter=100000):\n",
    "    # Convert X and y to numpy arrays\n",
    "    X = np.array(X)\n",
    "    y = np.array(y)\n",
    "\n",
    "    # Calculate number of samples\n",
    "    n = len(X)\n",
    "\n",
    "    # Initialize slope and intercept\n",
    "    slope = 0\n",
    "    intercept = 0\n",
    "\n",
    "    # Loop through the maximum number of iterations\n",
    "    for i in range(max_iter):\n",
    "        # Calculate predicted values\n",
    "        y_pred = intercept + slope * X\n",
    "\n",
    "        # Calculate errors\n",
    "        error = y - y_pred\n",
    "\n",
    "        # Calculate sum of squared errors\n",
    "        sum_sq_error = np.dot(error, error)\n",
    "\n",
    "        # Calculate gradient descent for slope and intercept\n",
    "        slope_gradient = (-2/n) * np.dot(X, error)\n",
    "        intercept_gradient = (-2/n) * sum(error)\n",
    "        # Update slope and intercept\n",
    "        slope = slope - learning_rate * slope_gradient\n",
    "        intercept = intercept - learning_rate * intercept_gradient\n",
    "\n",
    "    # Calculate R2 score\n",
    "    y_mean = np.mean(y)\n",
    "    sst = sum((y - y_mean) ** 2)\n",
    "    sse = sum_sq_error\n",
    "    r2 = 1 - sse / sst\n",
    "\n",
    "    return slope, intercept, r2\n",
    "\n",
    "# Calculate linear regression for pressure range 1\n",
    "slope1, intercept1, r2_1 = linear_regression(X1, y1)\n",
    "\n",
    "# Calculate linear regression for pressure range 2\n",
    "slope2, intercept2, r2_2 = linear_regression(X2, y2)\n",
    "\n",
    "# Calculate linear regression for pressure range 3\n",
    "slope3, intercept3, r2_3 = linear_regression(X3, y3)"
   ]
  },
  {
   "cell_type": "code",
   "execution_count": 28,
   "id": "14f1e4c2",
   "metadata": {},
   "outputs": [
    {
     "name": "stdout",
     "output_type": "stream",
     "text": [
      "Linear Regression Equation: S_V = 7.9469*P + 20.2162\n",
      "R2 Score: -0.12661283894601416\n",
      "Linear Regression Equation: S_V = 0.2615*P + 0.1591\n",
      "R2 Score: -2.1249163236673696\n",
      "Linear Regression Equation: S_V = 0.0052*P + 0.0442\n",
      "R2 Score: -1.5000651240536476\n"
     ]
    }
   ],
   "source": [
    "slope1, intercept1, r2_1\n",
    "print(\"Linear Regression Equation: S_V = {:.4f}*P + {:.4f}\".format(slope1, intercept1))\n",
    "print(\"R2 Score:\", r2_1)\n",
    "slope2, intercept2, r2_2\n",
    "print(\"Linear Regression Equation: S_V = {:.4f}*P + {:.4f}\".format(slope2, intercept2))\n",
    "print(\"R2 Score:\", r2_2)\n",
    "slope3, intercept3, r2_3\n",
    "print(\"Linear Regression Equation: S_V = {:.4f}*P + {:.4f}\".format(slope3, intercept3))\n",
    "print(\"R2 Score:\", r2_3)"
   ]
  },
  {
   "cell_type": "code",
   "execution_count": null,
   "id": "b6f4499e",
   "metadata": {},
   "outputs": [],
   "source": []
  },
  {
   "cell_type": "code",
   "execution_count": null,
   "id": "60b39e70",
   "metadata": {},
   "outputs": [],
   "source": [
    "\n"
   ]
  },
  {
   "cell_type": "code",
   "execution_count": null,
   "id": "1499042c",
   "metadata": {},
   "outputs": [],
   "source": []
  },
  {
   "cell_type": "code",
   "execution_count": null,
   "id": "fd5c227d",
   "metadata": {},
   "outputs": [],
   "source": []
  },
  {
   "cell_type": "code",
   "execution_count": null,
   "id": "697a5ad6",
   "metadata": {},
   "outputs": [],
   "source": []
  },
  {
   "cell_type": "code",
   "execution_count": null,
   "id": "1c59e39e",
   "metadata": {},
   "outputs": [],
   "source": []
  },
  {
   "cell_type": "code",
   "execution_count": null,
   "id": "a030c7dc",
   "metadata": {},
   "outputs": [],
   "source": []
  },
  {
   "cell_type": "code",
   "execution_count": null,
   "id": "34c40121",
   "metadata": {},
   "outputs": [],
   "source": []
  },
  {
   "cell_type": "code",
   "execution_count": null,
   "id": "7a6df134",
   "metadata": {},
   "outputs": [],
   "source": []
  },
  {
   "cell_type": "code",
   "execution_count": null,
   "id": "83310623",
   "metadata": {},
   "outputs": [],
   "source": []
  },
  {
   "cell_type": "code",
   "execution_count": null,
   "id": "7021a97b",
   "metadata": {},
   "outputs": [],
   "source": []
  },
  {
   "cell_type": "code",
   "execution_count": null,
   "id": "5fe5e488",
   "metadata": {},
   "outputs": [],
   "source": []
  },
  {
   "cell_type": "code",
   "execution_count": null,
   "id": "15820a16",
   "metadata": {},
   "outputs": [],
   "source": []
  },
  {
   "cell_type": "code",
   "execution_count": null,
   "id": "68f339d0",
   "metadata": {},
   "outputs": [],
   "source": []
  },
  {
   "cell_type": "code",
   "execution_count": null,
   "id": "72c71879",
   "metadata": {},
   "outputs": [],
   "source": []
  }
 ],
 "metadata": {
  "kernelspec": {
   "display_name": "Python 3 (ipykernel)",
   "language": "python",
   "name": "python3"
  },
  "language_info": {
   "codemirror_mode": {
    "name": "ipython",
    "version": 3
   },
   "file_extension": ".py",
   "mimetype": "text/x-python",
   "name": "python",
   "nbconvert_exporter": "python",
   "pygments_lexer": "ipython3",
   "version": "3.9.12"
  }
 },
 "nbformat": 4,
 "nbformat_minor": 5
}
