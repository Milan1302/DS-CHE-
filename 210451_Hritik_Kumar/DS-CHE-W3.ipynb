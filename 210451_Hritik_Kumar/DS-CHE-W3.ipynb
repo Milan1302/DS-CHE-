{
 "cells": [
  {
   "cell_type": "code",
   "execution_count": 293,
   "id": "c3255678",
   "metadata": {},
   "outputs": [],
   "source": [
    "import numpy as np\n",
    "import pandas as pd\n",
    "import matplotlib.pyplot as plt"
   ]
  },
  {
   "cell_type": "code",
   "execution_count": 294,
   "id": "f2d982de",
   "metadata": {},
   "outputs": [],
   "source": [
    "df=pd.read_csv(r\"superheated_vapor_properties.csv\")"
   ]
  },
  {
   "cell_type": "code",
   "execution_count": 295,
   "id": "c2f88b82",
   "metadata": {},
   "outputs": [
    {
     "data": {
      "text/html": [
       "<div>\n",
       "<style scoped>\n",
       "    .dataframe tbody tr th:only-of-type {\n",
       "        vertical-align: middle;\n",
       "    }\n",
       "\n",
       "    .dataframe tbody tr th {\n",
       "        vertical-align: top;\n",
       "    }\n",
       "\n",
       "    .dataframe thead th {\n",
       "        text-align: right;\n",
       "    }\n",
       "</style>\n",
       "<table border=\"1\" class=\"dataframe\">\n",
       "  <thead>\n",
       "    <tr style=\"text-align: right;\">\n",
       "      <th></th>\n",
       "      <th>Pressure</th>\n",
       "      <th>Property</th>\n",
       "      <th>Liq_Sat</th>\n",
       "      <th>Vap_Sat</th>\n",
       "      <th>75</th>\n",
       "      <th>100</th>\n",
       "      <th>125</th>\n",
       "      <th>150</th>\n",
       "      <th>175</th>\n",
       "      <th>200</th>\n",
       "      <th>...</th>\n",
       "      <th>425</th>\n",
       "      <th>450</th>\n",
       "      <th>475</th>\n",
       "      <th>500</th>\n",
       "      <th>525</th>\n",
       "      <th>550</th>\n",
       "      <th>575</th>\n",
       "      <th>600</th>\n",
       "      <th>625</th>\n",
       "      <th>650</th>\n",
       "    </tr>\n",
       "  </thead>\n",
       "  <tbody>\n",
       "    <tr>\n",
       "      <th>0</th>\n",
       "      <td>1.0</td>\n",
       "      <td>V</td>\n",
       "      <td>1.000</td>\n",
       "      <td>129200.0000</td>\n",
       "      <td>160640.0000</td>\n",
       "      <td>172180.0000</td>\n",
       "      <td>183720.0000</td>\n",
       "      <td>195270.0000</td>\n",
       "      <td>206810.0000</td>\n",
       "      <td>218350.0000</td>\n",
       "      <td>...</td>\n",
       "      <td>NaN</td>\n",
       "      <td>333730.00</td>\n",
       "      <td>NaN</td>\n",
       "      <td>356810.0000</td>\n",
       "      <td>NaN</td>\n",
       "      <td>379880.0000</td>\n",
       "      <td>NaN</td>\n",
       "      <td>402960.0000</td>\n",
       "      <td>NaN</td>\n",
       "      <td>426040.0000</td>\n",
       "    </tr>\n",
       "    <tr>\n",
       "      <th>1</th>\n",
       "      <td>1.0</td>\n",
       "      <td>U</td>\n",
       "      <td>29.334</td>\n",
       "      <td>2385.2000</td>\n",
       "      <td>2480.8000</td>\n",
       "      <td>2516.4000</td>\n",
       "      <td>2552.3000</td>\n",
       "      <td>2588.5000</td>\n",
       "      <td>2624.9000</td>\n",
       "      <td>2661.7000</td>\n",
       "      <td>...</td>\n",
       "      <td>NaN</td>\n",
       "      <td>3049.90</td>\n",
       "      <td>NaN</td>\n",
       "      <td>3132.4000</td>\n",
       "      <td>NaN</td>\n",
       "      <td>3216.7000</td>\n",
       "      <td>NaN</td>\n",
       "      <td>3302.6000</td>\n",
       "      <td>NaN</td>\n",
       "      <td>3390.3000</td>\n",
       "    </tr>\n",
       "    <tr>\n",
       "      <th>2</th>\n",
       "      <td>1.0</td>\n",
       "      <td>H</td>\n",
       "      <td>29.335</td>\n",
       "      <td>2514.4000</td>\n",
       "      <td>2641.5000</td>\n",
       "      <td>2688.6000</td>\n",
       "      <td>2736.0000</td>\n",
       "      <td>2783.7000</td>\n",
       "      <td>2831.7000</td>\n",
       "      <td>2880.1000</td>\n",
       "      <td>...</td>\n",
       "      <td>NaN</td>\n",
       "      <td>3383.60</td>\n",
       "      <td>NaN</td>\n",
       "      <td>3489.2000</td>\n",
       "      <td>NaN</td>\n",
       "      <td>3596.5000</td>\n",
       "      <td>NaN</td>\n",
       "      <td>3705.6000</td>\n",
       "      <td>NaN</td>\n",
       "      <td>3816.4000</td>\n",
       "    </tr>\n",
       "    <tr>\n",
       "      <th>3</th>\n",
       "      <td>1.0</td>\n",
       "      <td>S</td>\n",
       "      <td>0.106</td>\n",
       "      <td>8.9767</td>\n",
       "      <td>9.3828</td>\n",
       "      <td>9.5136</td>\n",
       "      <td>9.6365</td>\n",
       "      <td>9.7527</td>\n",
       "      <td>9.8629</td>\n",
       "      <td>9.9679</td>\n",
       "      <td>...</td>\n",
       "      <td>NaN</td>\n",
       "      <td>10.82</td>\n",
       "      <td>NaN</td>\n",
       "      <td>10.9612</td>\n",
       "      <td>NaN</td>\n",
       "      <td>11.0957</td>\n",
       "      <td>NaN</td>\n",
       "      <td>11.2243</td>\n",
       "      <td>NaN</td>\n",
       "      <td>11.3476</td>\n",
       "    </tr>\n",
       "    <tr>\n",
       "      <th>4</th>\n",
       "      <td>10.0</td>\n",
       "      <td>V</td>\n",
       "      <td>1.010</td>\n",
       "      <td>14670.0000</td>\n",
       "      <td>16030.0000</td>\n",
       "      <td>17190.0000</td>\n",
       "      <td>18350.0000</td>\n",
       "      <td>19510.0000</td>\n",
       "      <td>20660.0000</td>\n",
       "      <td>21820.0000</td>\n",
       "      <td>...</td>\n",
       "      <td>NaN</td>\n",
       "      <td>33370.00</td>\n",
       "      <td>NaN</td>\n",
       "      <td>35670.0000</td>\n",
       "      <td>NaN</td>\n",
       "      <td>37980.0000</td>\n",
       "      <td>NaN</td>\n",
       "      <td>40290.0000</td>\n",
       "      <td>NaN</td>\n",
       "      <td>42600.0000</td>\n",
       "    </tr>\n",
       "  </tbody>\n",
       "</table>\n",
       "<p>5 rows × 37 columns</p>\n",
       "</div>"
      ],
      "text/plain": [
       "   Pressure Property  Liq_Sat      Vap_Sat           75          100  \\\n",
       "0       1.0        V    1.000  129200.0000  160640.0000  172180.0000   \n",
       "1       1.0        U   29.334    2385.2000    2480.8000    2516.4000   \n",
       "2       1.0        H   29.335    2514.4000    2641.5000    2688.6000   \n",
       "3       1.0        S    0.106       8.9767       9.3828       9.5136   \n",
       "4      10.0        V    1.010   14670.0000   16030.0000   17190.0000   \n",
       "\n",
       "           125          150          175          200  ...  425        450  \\\n",
       "0  183720.0000  195270.0000  206810.0000  218350.0000  ...  NaN  333730.00   \n",
       "1    2552.3000    2588.5000    2624.9000    2661.7000  ...  NaN    3049.90   \n",
       "2    2736.0000    2783.7000    2831.7000    2880.1000  ...  NaN    3383.60   \n",
       "3       9.6365       9.7527       9.8629       9.9679  ...  NaN      10.82   \n",
       "4   18350.0000   19510.0000   20660.0000   21820.0000  ...  NaN   33370.00   \n",
       "\n",
       "   475          500  525          550  575          600  625          650  \n",
       "0  NaN  356810.0000  NaN  379880.0000  NaN  402960.0000  NaN  426040.0000  \n",
       "1  NaN    3132.4000  NaN    3216.7000  NaN    3302.6000  NaN    3390.3000  \n",
       "2  NaN    3489.2000  NaN    3596.5000  NaN    3705.6000  NaN    3816.4000  \n",
       "3  NaN      10.9612  NaN      11.0957  NaN      11.2243  NaN      11.3476  \n",
       "4  NaN   35670.0000  NaN   37980.0000  NaN   40290.0000  NaN   42600.0000  \n",
       "\n",
       "[5 rows x 37 columns]"
      ]
     },
     "execution_count": 295,
     "metadata": {},
     "output_type": "execute_result"
    }
   ],
   "source": [
    "df.head()"
   ]
  },
  {
   "cell_type": "code",
   "execution_count": 296,
   "id": "e3f0fcc6",
   "metadata": {},
   "outputs": [],
   "source": [
    "p1=[]\n",
    "p2=[]\n",
    "p3=[]\n",
    "for i in range(0,df.shape[0],4):\n",
    "    if(df[\"Pressure\"][i]<300):\n",
    "        p1.append(df[\"Vap_Sat\"][i])\n",
    "    if(df[\"Pressure\"][i]>=300 and df[\"Pressure\"][i]<=1500 ):\n",
    "        p2.append(df[\"Vap_Sat\"][i])\n",
    "    if(df[\"Pressure\"][i]>1500):\n",
    "        p3.append(df[\"Vap_Sat\"][i])\n",
    "        "
   ]
  },
  {
   "cell_type": "code",
   "execution_count": 297,
   "id": "bcb8d29e",
   "metadata": {},
   "outputs": [
    {
     "data": {
      "text/plain": [
       "(544, 37)"
      ]
     },
     "execution_count": 297,
     "metadata": {},
     "output_type": "execute_result"
    }
   ],
   "source": [
    "df.shape"
   ]
  },
  {
   "cell_type": "code",
   "execution_count": 298,
   "id": "641bd433",
   "metadata": {},
   "outputs": [
    {
     "data": {
      "text/plain": [
       "16"
      ]
     },
     "execution_count": 298,
     "metadata": {},
     "output_type": "execute_result"
    }
   ],
   "source": [
    "len(p1)"
   ]
  },
  {
   "cell_type": "code",
   "execution_count": 299,
   "id": "00fcf548",
   "metadata": {},
   "outputs": [
    {
     "data": {
      "text/plain": [
       "39"
      ]
     },
     "execution_count": 299,
     "metadata": {},
     "output_type": "execute_result"
    }
   ],
   "source": [
    "len(p2)"
   ]
  },
  {
   "cell_type": "code",
   "execution_count": 300,
   "id": "dbd036f1",
   "metadata": {},
   "outputs": [
    {
     "data": {
      "text/plain": [
       "81"
      ]
     },
     "execution_count": 300,
     "metadata": {},
     "output_type": "execute_result"
    }
   ],
   "source": [
    "len(p3)"
   ]
  },
  {
   "cell_type": "code",
   "execution_count": 301,
   "id": "3cdf8203",
   "metadata": {},
   "outputs": [],
   "source": [
    "p1_1=[df[\"Pressure\"][i] for i in range(0,544,4) if df[\"Pressure\"][i]<300]\n",
    "p2_2=[df[\"Pressure\"][i] for i in range(0,544,4) if (df[\"Pressure\"][i]>=300 and df[\"Pressure\"][i]<=1500)]\n",
    "p3_3=[df[\"Pressure\"][i] for i in range(0,544,4) if df[\"Pressure\"][i]>1500]"
   ]
  },
  {
   "cell_type": "code",
   "execution_count": 302,
   "id": "630e54d9",
   "metadata": {},
   "outputs": [
    {
     "name": "stdout",
     "output_type": "stream",
     "text": [
      "16 39 81\n"
     ]
    }
   ],
   "source": [
    "print(len(p1_1),len(p2_2),len(p3_3))"
   ]
  },
  {
   "cell_type": "markdown",
   "id": "8aff57e8",
   "metadata": {},
   "source": [
    " dataset 1 : pressure <300"
   ]
  },
  {
   "cell_type": "code",
   "execution_count": 303,
   "id": "1291545e",
   "metadata": {},
   "outputs": [],
   "source": [
    "x1=np.array(p1_1).reshape(-1,1)"
   ]
  },
  {
   "cell_type": "code",
   "execution_count": 304,
   "id": "1edf9061",
   "metadata": {},
   "outputs": [],
   "source": [
    "y1=np.array(p1).reshape(-1,1)"
   ]
  },
  {
   "cell_type": "code",
   "execution_count": 305,
   "id": "2ac7d8f2",
   "metadata": {},
   "outputs": [
    {
     "name": "stdout",
     "output_type": "stream",
     "text": [
      "(16, 1) (16, 1)\n"
     ]
    }
   ],
   "source": [
    "print(x1.shape,y1.shape)"
   ]
  },
  {
   "cell_type": "code",
   "execution_count": 306,
   "id": "c1215478",
   "metadata": {},
   "outputs": [],
   "source": [
    "u=x1.mean(axis=0)\n",
    "std=x1.std(axis=0)\n",
    "x1=(x1-u)/std\n"
   ]
  },
  {
   "cell_type": "code",
   "execution_count": 307,
   "id": "2a537da5",
   "metadata": {},
   "outputs": [
    {
     "name": "stderr",
     "output_type": "stream",
     "text": [
      "No artists with labels found to put in legend.  Note that artists whose label start with an underscore are ignored when legend() is called with no argument.\n"
     ]
    },
    {
     "data": {
      "image/png": "[encoded data removed]",
      "text/plain": [
       "<Figure size 720x720 with 1 Axes>"
      ]
     },
     "metadata": {},
     "output_type": "display_data"
    }
   ],
   "source": [
    "plt.style.use(\"seaborn\")\n",
    "plt.figure(figsize=(10,10))\n",
    "plt.scatter(x1,y1)\n",
    "plt.title(\"pressure vs specific volume\")\n",
    "plt.xlabel(\"pressure\")\n",
    "plt.ylabel(\"specific volume\")\n",
    "plt.legend()\n",
    "plt.show()"
   ]
  },
  {
   "cell_type": "code",
   "execution_count": 308,
   "id": "d6f13ad7",
   "metadata": {},
   "outputs": [
    {
     "data": {
      "text/plain": [
       "LinearRegression()"
      ]
     },
     "execution_count": 308,
     "metadata": {},
     "output_type": "execute_result"
    }
   ],
   "source": [
    "from sklearn.linear_model import LinearRegression\n",
    "model=LinearRegression()\n",
    "model.fit(x1,y1)"
   ]
  },
  {
   "cell_type": "code",
   "execution_count": 309,
   "id": "5640f58a",
   "metadata": {},
   "outputs": [
    {
     "data": {
      "text/plain": [
       "(16, 1)"
      ]
     },
     "execution_count": 309,
     "metadata": {},
     "output_type": "execute_result"
    }
   ],
   "source": [
    "y_pred=model.predict(x1)\n",
    "y_pred.shape"
   ]
  },
  {
   "cell_type": "code",
   "execution_count": 310,
   "id": "b0e98963",
   "metadata": {},
   "outputs": [
    {
     "data": {
      "text/plain": [
       "array([[ 27462.70127647],\n",
       "       [ 26154.7003303 ],\n",
       "       [ 24701.36594568],\n",
       "       [ 23248.03156105],\n",
       "       [ 21794.69717642],\n",
       "       [ 20341.36279179],\n",
       "       [ 16708.02683023],\n",
       "       [ 13074.69086866],\n",
       "       [ 12882.1240627 ],\n",
       "       [  9441.35490709],\n",
       "       [  5808.01894552],\n",
       "       [  2174.68298395],\n",
       "       [ -1458.65297761],\n",
       "       [ -5091.98893918],\n",
       "       [ -8725.32490075],\n",
       "       [-12358.66086232]])"
      ]
     },
     "execution_count": 310,
     "metadata": {},
     "output_type": "execute_result"
    }
   ],
   "source": [
    "y_pred"
   ]
  },
  {
   "cell_type": "code",
   "execution_count": 311,
   "id": "d81f5686",
   "metadata": {},
   "outputs": [
    {
     "data": {
      "text/plain": [
       "<matplotlib.collections.PathCollection at 0x1245eb11f70>"
      ]
     },
     "execution_count": 311,
     "metadata": {},
     "output_type": "execute_result"
    },
    {
     "data": {
      "image/png": "[encoded data removed]",
      "text/plain": [
       "<Figure size 576x396 with 1 Axes>"
      ]
     },
     "metadata": {},
     "output_type": "display_data"
    }
   ],
   "source": [
    "plt.scatter(x1,y1,c=\"red\")\n",
    "plt.scatter(x1,y_pred)"
   ]
  },
  {
   "cell_type": "code",
   "execution_count": 312,
   "id": "d7d7af08",
   "metadata": {},
   "outputs": [],
   "source": [
    "from sklearn.metrics import r2_score\n",
    "r=r2_score(y1,y_pred)"
   ]
  },
  {
   "cell_type": "code",
   "execution_count": 322,
   "id": "350a0589",
   "metadata": {},
   "outputs": [
    {
     "name": "stdout",
     "output_type": "stream",
     "text": [
      "0.16815590648253187 [[-12596.62249278]] [11009.820625]\n"
     ]
    }
   ],
   "source": [
    "print(r,model.coef_,model.intercept_)"
   ]
  },
  {
   "cell_type": "code",
   "execution_count": 314,
   "id": "7cd8cb80",
   "metadata": {},
   "outputs": [],
   "source": [
    "def hypothesis(x,theta):\n",
    "    y_= x*theta[1]+theta[0]\n",
    "    return y_\n",
    "def gradient(X,Y,theta):\n",
    "    m=X.shape[0]\n",
    "    grad=np.zeros((2,))\n",
    "    for i in range(m):\n",
    "        #x=X[i]\n",
    "        y_=hypothesis(X[i],theta)\n",
    "        grad[0]+=y_-Y[i]\n",
    "        grad[1]+=(y_-Y[i])*X[i]\n",
    "    return grad/m\n",
    "\n",
    "def gradient_descent(X,Y,max=30,lr=0.1):\n",
    "    theta=np.zeros((2,))\n",
    "    error_list=[]\n",
    "    \n",
    "    for i in range(max):\n",
    "        # update theta\n",
    "        grad=gradient(X,Y,theta)\n",
    "        theta[0]=theta[0]-lr*grad[0]\n",
    "       \n",
    "        \n",
    "        theta[1]=theta[1]-lr*grad[1]\n",
    "        #print(theta[0],theta[1])\n",
    "        #print(grad)\n",
    "        #e=error(X,Y,theta)\n",
    "        #error_list.append(e)\n",
    "    return theta\n",
    "        "
   ]
  },
  {
   "cell_type": "code",
   "execution_count": 315,
   "id": "c278e961",
   "metadata": {},
   "outputs": [],
   "source": [
    "theta=gradient_descent(x1,y1)"
   ]
  },
  {
   "cell_type": "code",
   "execution_count": 323,
   "id": "04daa81c",
   "metadata": {},
   "outputs": [
    {
     "data": {
      "text/plain": [
       "array([ 10543.1015763 , -12062.63707495])"
      ]
     },
     "execution_count": 323,
     "metadata": {},
     "output_type": "execute_result"
    }
   ],
   "source": [
    "theta # this is the slope and the intercept"
   ]
  },
  {
   "cell_type": "code",
   "execution_count": 317,
   "id": "f2496ae3",
   "metadata": {},
   "outputs": [
    {
     "data": {
      "text/plain": [
       "<matplotlib.collections.PathCollection at 0x1245e561eb0>"
      ]
     },
     "execution_count": 317,
     "metadata": {},
     "output_type": "execute_result"
    },
    {
     "data": {
      "image/png": "[encoded data removed]",
      "text/plain": [
       "<Figure size 576x396 with 1 Axes>"
      ]
     },
     "metadata": {},
     "output_type": "display_data"
    }
   ],
   "source": [
    "y_pred0=hypothesis(x1,theta)\n",
    "plt.scatter(x1,y1)\n",
    "plt.scatter(x1,y_pred0)"
   ]
  },
  {
   "cell_type": "code",
   "execution_count": 318,
   "id": "e3724988",
   "metadata": {},
   "outputs": [
    {
     "data": {
      "text/plain": [
       "<matplotlib.collections.PathCollection at 0x1245eb4ef10>"
      ]
     },
     "execution_count": 318,
     "metadata": {},
     "output_type": "execute_result"
    },
    {
     "data": {
      "image/png": "[encoded data removed]",
      "text/plain": [
       "<Figure size 576x396 with 1 Axes>"
      ]
     },
     "metadata": {},
     "output_type": "display_data"
    }
   ],
   "source": [
    "def hypothesis(m,c,x):\n",
    "    return m*x+c\n",
    "def loss1(y_,y):\n",
    "    return np.mean((y_-y)**2)\n",
    "def gradient_b(m,c,x,y):\n",
    "    y_= hypothesis(m,c,x)\n",
    "    #print(y_.shape)\n",
    "    return (y_-y).sum(axis=0)/(y_.shape[0])\n",
    "def gradient_m(m,c,x,y):\n",
    "    y_=hypothesis(m,c,x)\n",
    "    return ((y_-y)*x).sum(axis=0)/(y_.shape[0])\n",
    "\n",
    "def linear_regression(x,y,max_iter=5000,lr=0.1):\n",
    "    # there is only one variant theta so take it as m1\n",
    "    loss=[]\n",
    "    m1=np.random.randn(1)\n",
    "    b1=np.random.randn(1)\n",
    "    m=x.shape[0]\n",
    "    for i in range(max_iter):\n",
    "        m1=m1-gradient_m(m1,b1,x,y)*lr\n",
    "        b1=b1-gradient_b(m1,b1,x,y)*lr\n",
    "        #print(m1,b1)\n",
    "        \n",
    "        y1=hypothesis(m1,b1,x)\n",
    "        l=loss1(y1,y)\n",
    "        \n",
    "        loss.append(l)\n",
    "    \n",
    "\n",
    "    return (m1,b1,loss)\n",
    "(m1,b1,loss)=linear_regression(x1,y1)\n",
    "y_pred=hypothesis(m1,b1,x1)\n",
    "plt.scatter(x1,y_pred)\n",
    "plt.scatter(x1,y1)"
   ]
  },
  {
   "cell_type": "code",
   "execution_count": 319,
   "id": "ce6cc24f",
   "metadata": {},
   "outputs": [
    {
     "data": {
      "text/plain": [
       "[<matplotlib.lines.Line2D at 0x1245e901a60>]"
      ]
     },
     "execution_count": 319,
     "metadata": {},
     "output_type": "execute_result"
    },
    {
     "data": {
      "image/png": "[encoded data removed]",
      "text/plain": [
       "<Figure size 576x396 with 1 Axes>"
      ]
     },
     "metadata": {},
     "output_type": "display_data"
    }
   ],
   "source": [
    "plt.plot(loss)"
   ]
  },
  {
   "cell_type": "code",
   "execution_count": 325,
   "id": "1212b04f",
   "metadata": {},
   "outputs": [
    {
     "name": "stdout",
     "output_type": "stream",
     "text": [
      "0.16815590648253198 [ 10543.1015763  -12062.63707495]\n"
     ]
    }
   ],
   "source": [
    "print(r2_score(y1,y_pred),theta)"
   ]
  },
  {
   "cell_type": "code",
   "execution_count": null,
   "id": "ef2513c5",
   "metadata": {},
   "outputs": [],
   "source": []
  },
  {
   "cell_type": "markdown",
   "id": "6d377c5d",
   "metadata": {},
   "source": [
    "# datasets 2 : pressure>300 and pressure<1500\n",
    "        "
   ]
  },
  {
   "cell_type": "code",
   "execution_count": 326,
   "id": "5b4e0e38",
   "metadata": {},
   "outputs": [],
   "source": [
    "x2=np.array(p2_2).reshape(-1,1)\n",
    "y2=np.array(p2).reshape(-1,1)"
   ]
  },
  {
   "cell_type": "code",
   "execution_count": 327,
   "id": "32a01c23",
   "metadata": {},
   "outputs": [
    {
     "name": "stdout",
     "output_type": "stream",
     "text": [
      "(39, 1) (39, 1)\n"
     ]
    }
   ],
   "source": [
    "print(x2.shape,y2.shape)"
   ]
  },
  {
   "cell_type": "markdown",
   "id": "d6e68614",
   "metadata": {},
   "source": [
    "## Normalizing dataset"
   ]
  },
  {
   "cell_type": "code",
   "execution_count": 328,
   "id": "3210943e",
   "metadata": {},
   "outputs": [],
   "source": [
    "u=x2.mean(axis=0)\n",
    "std=x2.std(axis=0)\n",
    "x2=(x2-u)/std\n"
   ]
  },
  {
   "cell_type": "code",
   "execution_count": 329,
   "id": "b4ebfb70",
   "metadata": {},
   "outputs": [
    {
     "data": {
      "text/plain": [
       "LinearRegression()"
      ]
     },
     "execution_count": 329,
     "metadata": {},
     "output_type": "execute_result"
    }
   ],
   "source": [
    "from sklearn.linear_model import LinearRegression\n",
    "model=LinearRegression()\n",
    "model.fit(x2,y2)"
   ]
  },
  {
   "cell_type": "code",
   "execution_count": null,
   "id": "207983c8",
   "metadata": {},
   "outputs": [],
   "source": []
  },
  {
   "cell_type": "code",
   "execution_count": 330,
   "id": "06927596",
   "metadata": {},
   "outputs": [
    {
     "data": {
      "text/plain": [
       "(39, 1)"
      ]
     },
     "execution_count": 330,
     "metadata": {},
     "output_type": "execute_result"
    }
   ],
   "source": [
    "y_pred=model.predict(x2)\n",
    "y_pred.shape"
   ]
  },
  {
   "cell_type": "code",
   "execution_count": 331,
   "id": "ea4d000e",
   "metadata": {},
   "outputs": [
    {
     "data": {
      "text/plain": [
       "<matplotlib.collections.PathCollection at 0x12459c66ca0>"
      ]
     },
     "execution_count": 331,
     "metadata": {},
     "output_type": "execute_result"
    },
    {
     "data": {
      "image/png": "[encoded data removed]",
      "text/plain": [
       "<Figure size 576x396 with 1 Axes>"
      ]
     },
     "metadata": {},
     "output_type": "display_data"
    }
   ],
   "source": [
    "plt.scatter(x2,y2)\n",
    "plt.scatter(x2,y_pred)"
   ]
  },
  {
   "cell_type": "code",
   "execution_count": 336,
   "id": "a07e6256",
   "metadata": {},
   "outputs": [
    {
     "name": "stdout",
     "output_type": "stream",
     "text": [
      "0.8335613390956468 [[-113.14919758]] [282.70820513]\n"
     ]
    }
   ],
   "source": [
    "r1=r2_score(y2,y_pred)\n",
    "print(r1,model.coef_,model.intercept_)"
   ]
  },
  {
   "cell_type": "code",
   "execution_count": 337,
   "id": "a39acf28",
   "metadata": {},
   "outputs": [
    {
     "data": {
      "text/plain": [
       "<matplotlib.collections.PathCollection at 0x1245e724550>"
      ]
     },
     "execution_count": 337,
     "metadata": {},
     "output_type": "execute_result"
    },
    {
     "data": {
      "image/png": "[encoded data removed]",
      "text/plain": [
       "<Figure size 576x396 with 1 Axes>"
      ]
     },
     "metadata": {},
     "output_type": "display_data"
    }
   ],
   "source": [
    "(m1,b1,loss)=linear_regression(x2,y2)\n",
    "y_pred=hypothesis(m1,b1,x2)\n",
    "#plt.scatter(x2,y2,c='red')\n",
    "plt.scatter(x2,y_pred)\n",
    "plt.scatter(x2,y2)"
   ]
  },
  {
   "cell_type": "code",
   "execution_count": 338,
   "id": "f1aec29d",
   "metadata": {},
   "outputs": [
    {
     "data": {
      "text/plain": [
       "[<matplotlib.lines.Line2D at 0x1245e78d160>]"
      ]
     },
     "execution_count": 338,
     "metadata": {},
     "output_type": "execute_result"
    },
    {
     "data": {
      "image/png": "[encoded data removed]",
      "text/plain": [
       "<Figure size 576x396 with 1 Axes>"
      ]
     },
     "metadata": {},
     "output_type": "display_data"
    }
   ],
   "source": [
    "plt.plot(loss)"
   ]
  },
  {
   "cell_type": "code",
   "execution_count": 341,
   "id": "01a2b765",
   "metadata": {},
   "outputs": [
    {
     "name": "stdout",
     "output_type": "stream",
     "text": [
      "0.8335613390956468 [-113.14919758] [282.70820513]\n"
     ]
    }
   ],
   "source": [
    "r1=r2_score(y2,y_pred)\n",
    "print(r1,m1,b1)"
   ]
  },
  {
   "cell_type": "markdown",
   "id": "6eba8254",
   "metadata": {},
   "source": [
    "## dataset 3: p>1500"
   ]
  },
  {
   "cell_type": "code",
   "execution_count": 342,
   "id": "f7704548",
   "metadata": {},
   "outputs": [],
   "source": [
    "x3=np.array(p3_3).reshape(-1,1)\n",
    "y3=np.array(p3).reshape(-1,1)"
   ]
  },
  {
   "cell_type": "code",
   "execution_count": 343,
   "id": "b2590ccc",
   "metadata": {},
   "outputs": [
    {
     "name": "stdout",
     "output_type": "stream",
     "text": [
      "(81, 1) (81, 1)\n"
     ]
    }
   ],
   "source": [
    "\n",
    "print(x3.shape,y3.shape)"
   ]
  },
  {
   "cell_type": "code",
   "execution_count": 344,
   "id": "43a066a7",
   "metadata": {},
   "outputs": [],
   "source": [
    "u=x3.mean(axis=0)\n",
    "std=x3.std(axis=0)\n",
    "x3=(x3-u)/std\n"
   ]
  },
  {
   "cell_type": "code",
   "execution_count": 345,
   "id": "ae16b612",
   "metadata": {},
   "outputs": [
    {
     "data": {
      "text/plain": [
       "LinearRegression()"
      ]
     },
     "execution_count": 345,
     "metadata": {},
     "output_type": "execute_result"
    }
   ],
   "source": [
    "from sklearn.linear_model import LinearRegression\n",
    "model=LinearRegression()\n",
    "model.fit(x3,y3)"
   ]
  },
  {
   "cell_type": "code",
   "execution_count": 346,
   "id": "30620929",
   "metadata": {},
   "outputs": [
    {
     "data": {
      "text/plain": [
       "(81, 1)"
      ]
     },
     "execution_count": 346,
     "metadata": {},
     "output_type": "execute_result"
    }
   ],
   "source": [
    "y_pred=model.predict(x3)\n",
    "y_pred.shape"
   ]
  },
  {
   "cell_type": "code",
   "execution_count": 347,
   "id": "2ee76e41",
   "metadata": {},
   "outputs": [
    {
     "data": {
      "text/plain": [
       "<matplotlib.collections.PathCollection at 0x1245e7fb4c0>"
      ]
     },
     "execution_count": 347,
     "metadata": {},
     "output_type": "execute_result"
    },
    {
     "data": {
      "image/png": "[encoded data removed]",
      "text/plain": [
       "<Figure size 576x396 with 1 Axes>"
      ]
     },
     "metadata": {},
     "output_type": "display_data"
    }
   ],
   "source": [
    "plt.scatter(x3,y3)\n",
    "plt.scatter(x3,y_pred)"
   ]
  },
  {
   "cell_type": "code",
   "execution_count": 348,
   "id": "841945e5",
   "metadata": {},
   "outputs": [
    {
     "name": "stdout",
     "output_type": "stream",
     "text": [
      "0.7683587450628104 [[-26.87471568]] [49.20474074]\n"
     ]
    }
   ],
   "source": [
    "r1=r2_score(y3,y_pred)\n",
    "print(r1,model.coef_,model.intercept_)"
   ]
  },
  {
   "cell_type": "code",
   "execution_count": 349,
   "id": "3566d993",
   "metadata": {},
   "outputs": [
    {
     "data": {
      "text/plain": [
       "<matplotlib.collections.PathCollection at 0x1245e85ef70>"
      ]
     },
     "execution_count": 349,
     "metadata": {},
     "output_type": "execute_result"
    },
    {
     "data": {
      "image/png": "[encoded data removed]",
      "text/plain": [
       "<Figure size 576x396 with 1 Axes>"
      ]
     },
     "metadata": {},
     "output_type": "display_data"
    }
   ],
   "source": [
    "(m1,b1,loss)=linear_regression(x3,y3)\n",
    "y_pred=hypothesis(m1,b1,x3)\n",
    "#plt.scatter(x2,y2,c='red')\n",
    "plt.scatter(x3,y_pred)\n",
    "plt.scatter(x3,y3)"
   ]
  },
  {
   "cell_type": "code",
   "execution_count": 350,
   "id": "6ed63730",
   "metadata": {},
   "outputs": [
    {
     "data": {
      "text/plain": [
       "[<matplotlib.lines.Line2D at 0x1245e8ccb80>]"
      ]
     },
     "execution_count": 350,
     "metadata": {},
     "output_type": "execute_result"
    },
    {
     "data": {
      "image/png": "[encoded data removed]",
      "text/plain": [
       "<Figure size 576x396 with 1 Axes>"
      ]
     },
     "metadata": {},
     "output_type": "display_data"
    }
   ],
   "source": [
    "plt.plot(loss)"
   ]
  },
  {
   "cell_type": "code",
   "execution_count": 352,
   "id": "ec39bc26",
   "metadata": {},
   "outputs": [
    {
     "name": "stdout",
     "output_type": "stream",
     "text": [
      "0.7683587450628104 [-26.87471568] [49.20474074]\n"
     ]
    }
   ],
   "source": [
    "r1=r2_score(y3,y_pred)\n",
    "print(r1,m1,b1)"
   ]
  },
  {
   "cell_type": "markdown",
   "id": "e1cbb3da",
   "metadata": {},
   "source": [
    "###### results are almost same from sklearn and linear regression from scratch after normalization of data"
   ]
  },
  {
   "cell_type": "markdown",
   "id": "388618b8",
   "metadata": {},
   "source": [
    "###### otherwise we have some unusual values without normalization due high deviation of data"
   ]
  },
  {
   "cell_type": "code",
   "execution_count": null,
   "id": "00cd996a",
   "metadata": {},
   "outputs": [],
   "source": []
  }
 ],
 "metadata": {
  "kernelspec": {
   "display_name": "Python 3 (ipykernel)",
   "language": "python",
   "name": "python3"
  },
  "language_info": {
   "codemirror_mode": {
    "name": "ipython",
    "version": 3
   },
   "file_extension": ".py",
   "mimetype": "text/x-python",
   "name": "python",
   "nbconvert_exporter": "python",
   "pygments_lexer": "ipython3",
   "version": "3.9.12"
  }
 },
 "nbformat": 4,
 "nbformat_minor": 5
}
