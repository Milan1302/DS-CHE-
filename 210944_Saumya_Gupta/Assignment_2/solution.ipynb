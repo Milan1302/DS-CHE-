{
 "cells": [
  {
   "attachments": {},
   "cell_type": "markdown",
   "id": "ff0ee8bc",
   "metadata": {},
   "source": [
    "## Importing Libraries"
   ]
  },
  {
   "cell_type": "code",
   "execution_count": 86,
   "id": "ac7d50ba",
   "metadata": {},
   "outputs": [],
   "source": [
    "import numpy as np\n",
    "import matplotlib.pyplot as plt"
   ]
  },
  {
   "attachments": {},
   "cell_type": "markdown",
   "id": "771270c4",
   "metadata": {},
   "source": [
    "## Generating data"
   ]
  },
  {
   "cell_type": "code",
   "execution_count": 87,
   "id": "e0172422",
   "metadata": {},
   "outputs": [
    {
     "data": {
      "image/png": "[encoded data removed]",
      "text/plain": [
       "<Figure size 432x288 with 1 Axes>"
      ]
     },
     "metadata": {
      "needs_background": "light"
     },
     "output_type": "display_data"
    }
   ],
   "source": [
    "rng = np.random.RandomState(10)\n",
    "x = 10 * rng.rand(50)\n",
    "y = 2 * (x**2) + 7 * (x) - 5 + rng.randn(50)\n",
    "plt.scatter(x, y)\n",
    "plt.show()\n",
    "N=x.shape[0]"
   ]
  },
  {
   "attachments": {},
   "cell_type": "markdown",
   "id": "0928c0b8",
   "metadata": {},
   "source": [
    "## Loss Function (i)"
   ]
  },
  {
   "cell_type": "code",
   "execution_count": 88,
   "id": "7219e2e9",
   "metadata": {},
   "outputs": [],
   "source": [
    "def loss1(y_hat, y):\n",
    "    l = abs((y_hat - y) ** 3 / 3)\n",
    "    return l.mean()"
   ]
  },
  {
   "attachments": {},
   "cell_type": "markdown",
   "id": "c4937102",
   "metadata": {},
   "source": [
    "## Loss Function (ii)"
   ]
  },
  {
   "cell_type": "code",
   "execution_count": 89,
   "id": "4c745b22",
   "metadata": {},
   "outputs": [],
   "source": [
    "def loss2(y_hat, y):\n",
    "    l = abs(y_hat - y)\n",
    "    return l.mean()"
   ]
  },
  {
   "attachments": {},
   "cell_type": "markdown",
   "id": "894fb582",
   "metadata": {},
   "source": [
    "## Loss Function (iii)"
   ]
  },
  {
   "cell_type": "code",
   "execution_count": 90,
   "id": "8859bb42",
   "metadata": {},
   "outputs": [],
   "source": [
    "def loss3(y_hat, y):\n",
    "    l = abs((y_hat - y) ** 4 / 4)\n",
    "    return l.mean()"
   ]
  },
  {
   "attachments": {},
   "cell_type": "markdown",
   "id": "f21f3fdc",
   "metadata": {},
   "source": [
    "## Loss Function (iv)"
   ]
  },
  {
   "cell_type": "code",
   "execution_count": 91,
   "id": "d1a9371a",
   "metadata": {},
   "outputs": [],
   "source": [
    "def loss4(y_hat, y):\n",
    "    l = abs((y_hat - y) ** 7 / 7)\n",
    "    return l.mean()"
   ]
  },
  {
   "attachments": {},
   "cell_type": "markdown",
   "id": "72c14df6",
   "metadata": {},
   "source": [
    "## Forward Pass for linear regression"
   ]
  },
  {
   "cell_type": "code",
   "execution_count": 92,
   "id": "38a4580c",
   "metadata": {},
   "outputs": [],
   "source": [
    "def forward_pass1(x,m,c):\n",
    "    return m*x+c"
   ]
  },
  {
   "attachments": {},
   "cell_type": "markdown",
   "id": "9f73fd6b",
   "metadata": {},
   "source": [
    "## Forward Pass for polynomial regression"
   ]
  },
  {
   "cell_type": "code",
   "execution_count": 93,
   "id": "add1bb55",
   "metadata": {},
   "outputs": [],
   "source": [
    "def forward_pass2(x,a,b,c):\n",
    "    return a*(x**2) + b*x + c"
   ]
  },
  {
   "attachments": {},
   "cell_type": "markdown",
   "id": "e968afef",
   "metadata": {},
   "source": [
    "## Gradient Descent (i)"
   ]
  },
  {
   "cell_type": "code",
   "execution_count": 94,
   "id": "3feea3e6",
   "metadata": {},
   "outputs": [],
   "source": [
    "def gradient_descent1(x,y,m,c,learning_rate,N):\n",
    "   y_hat=forward_pass1(x,m,c)\n",
    "   indices1 = []\n",
    "   indices2 = []\n",
    "   for i in range(N):\n",
    "      if(y_hat[i]>=y[i]):\n",
    "         indices1.append(i)\n",
    "      else:\n",
    "         indices2.append(i)\n",
    "   x1 = x[indices1]\n",
    "   x2 = x[indices2]\n",
    "   y1 = y[indices1]\n",
    "   y2 = y[indices2]\n",
    "   y_hat1 = y_hat[indices1]\n",
    "   y_hat2 = y_hat[indices2]\n",
    "   dm = (3.0/N) * np.sum(np.multiply(x1,np.square((y_hat1) - y1)))\n",
    "   dc = (3.0/N) * np.sum(np.square((y_hat1) - y1))\n",
    "   m = m -learning_rate * dm\n",
    "   c = c - learning_rate * dc\n",
    "   dm = (3.0/N) * -np.sum(np.multiply(x2,np.square((y_hat2) - y2)))\n",
    "   dc = (3.0/N) * -np.sum(np.square((y_hat2) - y2))\n",
    "   m = m -learning_rate * dm\n",
    "   c = c - learning_rate * dc\n",
    "   return m,c    "
   ]
  },
  {
   "attachments": {},
   "cell_type": "markdown",
   "id": "b16ea5e3",
   "metadata": {},
   "source": [
    "## Gradient Descent (ii)"
   ]
  },
  {
   "cell_type": "code",
   "execution_count": 95,
   "id": "cb61355c",
   "metadata": {},
   "outputs": [],
   "source": [
    "def gradient_descent2(x,y,m,c,learning_rate,N):\n",
    "   y_hat=forward_pass1(x,m,c)\n",
    "   indices1 = []\n",
    "   indices2 = []\n",
    "   for i in range(N):\n",
    "      if(y_hat[i]>=y[i]):\n",
    "         indices1.append(i)\n",
    "      else:\n",
    "         indices2.append(i)\n",
    "   x1 = x[indices1]\n",
    "   x2 = x[indices2]\n",
    "   y1 = y[indices1]\n",
    "   y2 = y[indices2]\n",
    "   y_hat1 = y_hat[indices1]\n",
    "   y_hat2 = y_hat[indices2]\n",
    "   dm = (3.0/N) * np.sum(x1)\n",
    "   dc = (3.0/N) * np.sum(1)\n",
    "   m = m -learning_rate * dm\n",
    "   c = c - learning_rate * dc\n",
    "   dm = (3.0/N) * -np.sum(x2)\n",
    "   dc = (3.0/N) * -np.sum(1)\n",
    "   m = m -learning_rate * dm\n",
    "   c = c - learning_rate * dc\n",
    "   return m,c"
   ]
  },
  {
   "attachments": {},
   "cell_type": "markdown",
   "id": "3bde0fb3",
   "metadata": {},
   "source": [
    "## Gradient Descent (iii)"
   ]
  },
  {
   "cell_type": "code",
   "execution_count": 96,
   "id": "58c40320",
   "metadata": {},
   "outputs": [],
   "source": [
    "def gradient_descent3(x,y,a,b,c,learning_rate,N):\n",
    "   y_hat=forward_pass2(x,a,b,c)\n",
    "   da = (4.0/N) * -np.sum(np.multiply(x**2,np.power((y - y_hat),3)))\n",
    "   db = (4.0/N) * -np.sum(np.multiply(x,np.power((y - y_hat),3)))\n",
    "   dc = (4.0/N) * -np.sum(np.power((y - y_hat),3))\n",
    "   a = a -learning_rate * da\n",
    "   b = b -learning_rate * db\n",
    "   c = c - learning_rate * dc\n",
    "   return a,b,c"
   ]
  },
  {
   "attachments": {},
   "cell_type": "markdown",
   "id": "2a40f6bc",
   "metadata": {},
   "source": [
    "## Gradient Descent (iv)"
   ]
  },
  {
   "cell_type": "code",
   "execution_count": 97,
   "id": "8848ed90",
   "metadata": {},
   "outputs": [],
   "source": [
    "def gradient_descent4(x,y,a,b,c,learning_rate,N):\n",
    "   y_hat=forward_pass2(x,a,b,c)\n",
    "   indices1 = []\n",
    "   indices2 = []\n",
    "   for i in range(N):\n",
    "      if(y_hat[i]>=y[i]):\n",
    "         indices1.append(i)\n",
    "      else:\n",
    "         indices2.append(i)\n",
    "   x1 = x[indices1]\n",
    "   x2 = x[indices2]\n",
    "   y1 = y[indices1]\n",
    "   y2 = y[indices2]\n",
    "   y_hat1 = y_hat[indices1]\n",
    "   y_hat2 = y_hat[indices2]\n",
    "   da = (7.0/N) * np.sum(np.multiply(x1**2,np.power((y_hat1-y1),6)))\n",
    "   db = (7.0/N) * np.sum(np.multiply(x1,np.power((y_hat1-y1),6)))\n",
    "   dc = (7.0/N) * np.sum(np.power((y_hat1-y1),6))\n",
    "   a = a -learning_rate * da/N\n",
    "   b = b -learning_rate * db/N\n",
    "   c = c - learning_rate * dc/N\n",
    "   da = (7.0/N) * -np.sum(np.multiply(x2**2,np.power((y_hat2-y2),6)))\n",
    "   db = (7.0/N) * -np.sum(np.multiply(x2,np.power((y_hat2-y2),6)))\n",
    "   dc = (7.0/N) * -np.sum(np.power((y_hat2-y2),6))\n",
    "   a = a -learning_rate * da/N\n",
    "   b = b -learning_rate * db/N\n",
    "   c = c - learning_rate * dc/N\n",
    "   return a,b,c"
   ]
  },
  {
   "attachments": {},
   "cell_type": "markdown",
   "id": "b3a2bebb",
   "metadata": {},
   "source": [
    "## Implementation(i)"
   ]
  },
  {
   "cell_type": "code",
   "execution_count": 98,
   "id": "40aa2412",
   "metadata": {},
   "outputs": [
    {
     "name": "stdout",
     "output_type": "stream",
     "text": [
      "Obtained value of m:  [25.95165038]\n",
      "Obtained value of c:  [-32.61718708]\n",
      "Obtained line: y = [25.95165038] x + [-32.61718708]\n"
     ]
    },
    {
     "data": {
      "image/png": "[encoded data removed]",
      "text/plain": [
       "<Figure size 432x288 with 1 Axes>"
      ]
     },
     "metadata": {
      "needs_background": "light"
     },
     "output_type": "display_data"
    }
   ],
   "source": [
    "# Random Initialisation\n",
    "m1 = np.random.randn(1)\n",
    "c1 = np.random.randn(1)\n",
    "\n",
    "# Hyperparameters\n",
    "learning_rate = 0.0001\n",
    "num_epochs = 20000\n",
    "\n",
    "L1=[]\n",
    "for i in range(num_epochs):\n",
    "    m1, c1 = gradient_descent1(x,y,m1,c1,learning_rate,N)\n",
    "    y_hatA = forward_pass1(x,m1,c1)\n",
    "    L1.append(loss1(y_hatA,y))\n",
    "\n",
    "print(\"Obtained value of m: \", m1)\n",
    "print(\"Obtained value of c: \", c1)\n",
    "print(\"Obtained line: y =\",m1,\"x +\",c1)\n",
    "\n",
    "plt.plot(L1,'r')\n",
    "plt.show()"
   ]
  },
  {
   "attachments": {},
   "cell_type": "markdown",
   "id": "819d87c4",
   "metadata": {},
   "source": [
    "## Implementation(ii)"
   ]
  },
  {
   "cell_type": "code",
   "execution_count": 99,
   "id": "35206ad1",
   "metadata": {},
   "outputs": [
    {
     "name": "stdout",
     "output_type": "stream",
     "text": [
      "Obtained value of m:  [20.18949298]\n",
      "Obtained value of c:  [-0.61191534]\n",
      "Obtained line: y = [20.18949298] x + [-0.61191534]\n"
     ]
    },
    {
     "data": {
      "image/png": "[encoded data removed]",
      "text/plain": [
       "<Figure size 432x288 with 1 Axes>"
      ]
     },
     "metadata": {
      "needs_background": "light"
     },
     "output_type": "display_data"
    }
   ],
   "source": [
    "# Random Initialisation\n",
    "m2 = np.random.randn(1)\n",
    "c2 = np.random.randn(1)\n",
    "\n",
    "# Hyperparameters\n",
    "learning_rate = 0.001\n",
    "num_epochs = 30000\n",
    "\n",
    "L2=[]\n",
    "for i in range(num_epochs):\n",
    "    m2, c2 = gradient_descent2(x,y,m2,c2,learning_rate,N)\n",
    "    y_hatB = forward_pass1(x,m2,c2)\n",
    "    L2.append(loss2(y_hatB,y))\n",
    "\n",
    "print(\"Obtained value of m: \", m2)\n",
    "print(\"Obtained value of c: \", c2)\n",
    "print(\"Obtained line: y =\",m2,\"x +\",c2)\n",
    "\n",
    "plt.plot(L2,'c')\n",
    "plt.show()"
   ]
  },
  {
   "attachments": {},
   "cell_type": "markdown",
   "id": "5018ae7b",
   "metadata": {},
   "source": [
    "## Implementation(iii)"
   ]
  },
  {
   "cell_type": "code",
   "execution_count": 100,
   "id": "6979cbc1",
   "metadata": {},
   "outputs": [
    {
     "name": "stdout",
     "output_type": "stream",
     "text": [
      "Obtained value of a:  [2.68119578]\n",
      "Obtained value of b:  [0.51016084]\n",
      "Obtained value of c:  [0.30483403]\n",
      "Obtained line: y = [2.68119578] x^2 + [0.51016084] x + [0.30483403]\n"
     ]
    },
    {
     "data": {
      "image/png": "[encoded data removed]",
      "text/plain": [
       "<Figure size 432x288 with 1 Axes>"
      ]
     },
     "metadata": {
      "needs_background": "light"
     },
     "output_type": "display_data"
    }
   ],
   "source": [
    "# Random Initialisation\n",
    "a3 = np.random.randn(1)\n",
    "b3 = np.random.randn(1)\n",
    "c3 = np.random.randn(1)\n",
    "\n",
    "# Hyperparameters\n",
    "learning_rate = 0.0000000001\n",
    "num_epochs = 20000\n",
    "\n",
    "L3=[]\n",
    "for i in range(num_epochs):\n",
    "    a3, b3, c3 = gradient_descent3(x,y,a3,b3,c3,learning_rate,N)\n",
    "    y_hatC = forward_pass2(x,a3,b3,c3)\n",
    "    L3.append(loss3(y_hatC,y))\n",
    "\n",
    "print(\"Obtained value of a: \", a3)\n",
    "print(\"Obtained value of b: \", b3)\n",
    "print(\"Obtained value of c: \", c3)\n",
    "print(\"Obtained line: y =\",a3,\"x^2 +\",b3,\"x +\", c3)\n",
    "\n",
    "plt.plot(L3,'m')\n",
    "plt.show()"
   ]
  },
  {
   "attachments": {},
   "cell_type": "markdown",
   "id": "95c2e39e",
   "metadata": {},
   "source": [
    "## Implementation(iv)"
   ]
  },
  {
   "cell_type": "code",
   "execution_count": 101,
   "id": "23bdef09",
   "metadata": {},
   "outputs": [
    {
     "name": "stdout",
     "output_type": "stream",
     "text": [
      "Obtained value of a:  [2.41832904]\n",
      "Obtained value of b:  [-0.03653533]\n",
      "Obtained value of c:  [-0.86890596]\n",
      "Obtained line: y = [2.41832904] x^2 + [-0.03653533] x + [-0.86890596]\n"
     ]
    },
    {
     "data": {
      "image/png": "[encoded data removed]",
      "text/plain": [
       "<Figure size 432x288 with 1 Axes>"
      ]
     },
     "metadata": {
      "needs_background": "light"
     },
     "output_type": "display_data"
    }
   ],
   "source": [
    "# Random Initialisation\n",
    "a4 = np.random.randn(1)\n",
    "b4 = np.random.randn(1)\n",
    "c4 = np.random.randn(1)\n",
    "\n",
    "# Hyperparameters\n",
    "learning_rate = 0.000000000000001\n",
    "num_epochs = 80000\n",
    "\n",
    "L4=[]\n",
    "for i in range(num_epochs):\n",
    "    a4, b4, c4 = gradient_descent4(x,y,a4,b4,c4,learning_rate,N)\n",
    "    y_hatD = forward_pass2(x,a4,b4,c4)\n",
    "    L4.append(loss4(y_hatD,y))\n",
    "\n",
    "print(\"Obtained value of a: \", a4)\n",
    "print(\"Obtained value of b: \", b4)\n",
    "print(\"Obtained value of c: \", c4)\n",
    "print(\"Obtained line: y =\",a4,\"x^2 +\",b4,\"x +\", c4)\n",
    "\n",
    "plt.plot(L4,'b')\n",
    "plt.show()"
   ]
  },
  {
   "attachments": {},
   "cell_type": "markdown",
   "id": "a208dcdc",
   "metadata": {},
   "source": [
    "## Plotting the data and the obtained curves"
   ]
  },
  {
   "cell_type": "code",
   "execution_count": 102,
   "id": "657408cf",
   "metadata": {},
   "outputs": [
    {
     "data": {
      "image/png": "[encoded data removed]",
      "text/plain": [
       "<Figure size 432x288 with 1 Axes>"
      ]
     },
     "metadata": {
      "needs_background": "light"
     },
     "output_type": "display_data"
    }
   ],
   "source": [
    "plt.plot(x,y,'go')\n",
    "plt.plot(x,y_hatA,'r--')\n",
    "plt.plot(x,y_hatB,'c--')\n",
    "plt.plot(x,y_hatC,'m.')\n",
    "plt.plot(x,y_hatD,'b.')\n",
    "plt.legend(['Data','L.R 1','L.R 2','P.R 1','P.R 2'])\n",
    "plt.show()"
   ]
  }
 ],
 "metadata": {
  "kernelspec": {
   "display_name": "Python 3",
   "language": "python",
   "name": "python3"
  },
  "language_info": {
   "codemirror_mode": {
    "name": "ipython",
    "version": 3
   },
   "file_extension": ".py",
   "mimetype": "text/x-python",
   "name": "python",
   "nbconvert_exporter": "python",
   "pygments_lexer": "ipython3",
   "version": "3.10.5"
  },
  "vscode": {
   "interpreter": {
    "hash": "027efd7095115064582efab50921964d678032cf36f1ec215c675cf4ffc5e6b9"
   }
  }
 },
 "nbformat": 4,
 "nbformat_minor": 5
}
